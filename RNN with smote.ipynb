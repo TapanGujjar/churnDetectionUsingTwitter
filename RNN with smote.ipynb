{
 "cells": [
  {
   "cell_type": "code",
   "execution_count": 1,
   "metadata": {},
   "outputs": [],
   "source": [
    "## Using LSTM to detect churn in the twitter dataset\n",
    "## ALso using word-embedding"
   ]
  },
  {
   "cell_type": "code",
   "execution_count": 1,
   "metadata": {},
   "outputs": [],
   "source": [
    "import pandas as pd\n",
    "import numpy as np"
   ]
  },
  {
   "cell_type": "code",
   "execution_count": 2,
   "metadata": {},
   "outputs": [],
   "source": [
    "import re"
   ]
  },
  {
   "cell_type": "code",
   "execution_count": 3,
   "metadata": {},
   "outputs": [],
   "source": [
    "import matplotlib.pyplot as plt"
   ]
  },
  {
   "cell_type": "code",
   "execution_count": 4,
   "metadata": {},
   "outputs": [
    {
     "name": "stderr",
     "output_type": "stream",
     "text": [
      "/home/silverstar/anaconda3/lib/python3.6/site-packages/h5py/__init__.py:36: FutureWarning: Conversion of the second argument of issubdtype from `float` to `np.floating` is deprecated. In future, it will be treated as `np.float64 == np.dtype(float).type`.\n",
      "  from ._conv import register_converters as _register_converters\n",
      "Using TensorFlow backend.\n"
     ]
    }
   ],
   "source": [
    "from sklearn.model_selection import train_test_split\n",
    "from imblearn.over_sampling import SMOTE\n",
    "from sklearn.linear_model import LogisticRegression\n",
    "from sklearn.ensemble import RandomForestClassifier\n",
    "from sklearn.tree import DecisionTreeClassifier\n",
    "from sklearn.svm import SVC\n",
    "from sklearn.svm import LinearSVC\n",
    "from sklearn.metrics import classification_report\n",
    "from sklearn.metrics import confusion_matrix\n",
    "from sklearn.metrics import recall_score\n",
    "from sklearn.metrics import precision_score\n",
    "from sklearn.metrics import auc\n",
    "from sklearn.metrics import roc_auc_score\n",
    "from keras.preprocessing.text import one_hot\n",
    "from sklearn.metrics import f1_score"
   ]
  },
  {
   "cell_type": "code",
   "execution_count": 5,
   "metadata": {},
   "outputs": [],
   "source": [
    "from nltk.corpus import stopwords\n",
    "stopwords=stopwords.words(\"english\")"
   ]
  },
  {
   "cell_type": "code",
   "execution_count": 6,
   "metadata": {},
   "outputs": [],
   "source": [
    "from nltk.stem import PorterStemmer"
   ]
  },
  {
   "cell_type": "code",
   "execution_count": 7,
   "metadata": {},
   "outputs": [],
   "source": [
    "from sklearn.feature_extraction.text import CountVectorizer"
   ]
  },
  {
   "cell_type": "code",
   "execution_count": 8,
   "metadata": {},
   "outputs": [],
   "source": [
    "from sklearn.model_selection import train_test_split"
   ]
  },
  {
   "cell_type": "code",
   "execution_count": 9,
   "metadata": {},
   "outputs": [],
   "source": [
    "from sklearn.metrics import classification_report\n",
    "from sklearn.metrics import confusion_matrix"
   ]
  },
  {
   "cell_type": "code",
   "execution_count": 10,
   "metadata": {},
   "outputs": [],
   "source": [
    "from sklearn.preprocessing import LabelEncoder"
   ]
  },
  {
   "cell_type": "code",
   "execution_count": 11,
   "metadata": {},
   "outputs": [],
   "source": [
    "from keras.preprocessing import sequence"
   ]
  },
  {
   "cell_type": "code",
   "execution_count": 12,
   "metadata": {},
   "outputs": [],
   "source": [
    "from keras.models import Sequential\n",
    "from keras.layers.embeddings import Embedding\n",
    "from keras.layers import Dense\n",
    "from keras.layers import LSTM\n",
    "from keras.layers import Dropout\n",
    "from keras.layers.recurrent import SimpleRNN\n",
    "from keras.layers import concatenate,Flatten,Reshape"
   ]
  },
  {
   "cell_type": "code",
   "execution_count": 13,
   "metadata": {},
   "outputs": [],
   "source": [
    "from keras.layers import GRU"
   ]
  },
  {
   "cell_type": "code",
   "execution_count": 14,
   "metadata": {},
   "outputs": [],
   "source": [
    "from keras.models import Model"
   ]
  },
  {
   "cell_type": "code",
   "execution_count": 15,
   "metadata": {},
   "outputs": [],
   "source": [
    "from keras.layers import RNN\n",
    "from keras.layers import Input"
   ]
  },
  {
   "cell_type": "code",
   "execution_count": 16,
   "metadata": {},
   "outputs": [],
   "source": [
    "import keras.backend as K"
   ]
  },
  {
   "cell_type": "code",
   "execution_count": 17,
   "metadata": {},
   "outputs": [],
   "source": [
    "mainDF=pd.read_csv(\"dataV2.csv\")"
   ]
  },
  {
   "cell_type": "code",
   "execution_count": 18,
   "metadata": {},
   "outputs": [],
   "source": [
    "brands=np.unique(mainDF['brand'])"
   ]
  },
  {
   "cell_type": "markdown",
   "metadata": {},
   "source": [
    "# Doing Pre-Processing"
   ]
  },
  {
   "cell_type": "code",
   "execution_count": 19,
   "metadata": {},
   "outputs": [
    {
     "data": {
      "text/plain": [
       "'gone mangy cat got go  <bb>  drop cable box remote gamestop exchange game rack screws'"
      ]
     },
     "execution_count": 19,
     "metadata": {},
     "output_type": "execute_result"
    }
   ],
   "source": [
    "mainDF.iloc()[0].text"
   ]
  },
  {
   "cell_type": "code",
   "execution_count": 20,
   "metadata": {},
   "outputs": [],
   "source": [
    "porter=PorterStemmer()\n",
    "def preprocessing(a_tweet):\n",
    "    cleanTweet=[]\n",
    "    a_tweet=a_tweet.split(\" \")\n",
    "    for word in a_tweet:\n",
    "        word=word.strip()\n",
    "        valid=re.search(pattern=r\"[^A-Za-z<>]\",string=word)==None\n",
    "        if(word!=\"\" and valid==True and word not in stopwords):\n",
    "            word=porter.stem(word)\n",
    "            cleanTweet.append(word)\n",
    "    return \" \".join(cleanTweet)"
   ]
  },
  {
   "cell_type": "code",
   "execution_count": 21,
   "metadata": {},
   "outputs": [],
   "source": [
    "mainDF['text']=mainDF['text'].apply(preprocessing)\n",
    "\n",
    "mainDF=mainDF.dropna()"
   ]
  },
  {
   "cell_type": "code",
   "execution_count": 22,
   "metadata": {},
   "outputs": [
    {
     "data": {
      "text/plain": [
       "'gone mangi cat got go <bb> drop cabl box remot gamestop exchang game rack screw'"
      ]
     },
     "execution_count": 22,
     "metadata": {},
     "output_type": "execute_result"
    }
   ],
   "source": [
    "mainDF.iloc()[0].text"
   ]
  },
  {
   "cell_type": "code",
   "execution_count": 23,
   "metadata": {},
   "outputs": [],
   "source": [
    "y=mainDF['choose_one']\n",
    "y=LabelEncoder().fit_transform(y)"
   ]
  },
  {
   "cell_type": "code",
   "execution_count": 24,
   "metadata": {},
   "outputs": [],
   "source": [
    "X_train,X_test,y_train,y_test=train_test_split(mainDF['text'],y,stratify=y.ravel())"
   ]
  },
  {
   "cell_type": "code",
   "execution_count": 25,
   "metadata": {},
   "outputs": [],
   "source": [
    "vocab_size = 500\n",
    "\n",
    "X_train = [one_hot(d, vocab_size,filters='!\"#$%&()*+,-./:;<=>?@[\\]^_`{|}~',lower=True, split=' ') for d in X_train]\n",
    "X_test = [one_hot(d, vocab_size,filters='!\"#$%&()*+,-./:;<=>?@[\\]^_`{|}~',lower=True, split=' ') for d in X_test]"
   ]
  },
  {
   "cell_type": "code",
   "execution_count": 26,
   "metadata": {},
   "outputs": [],
   "source": [
    "max_length = 25\n",
    "X_train = sequence.pad_sequences(X_train, maxlen=max_length, padding='pre')\n",
    "X_test = sequence.pad_sequences(X_test, maxlen=max_length, padding='pre')"
   ]
  },
  {
   "cell_type": "code",
   "execution_count": 39,
   "metadata": {},
   "outputs": [],
   "source": [
    "smote=SMOTE()\n",
    "X_train,y_train=smote.fit_sample(X_train,y_train)"
   ]
  },
  {
   "cell_type": "code",
   "execution_count": 40,
   "metadata": {},
   "outputs": [],
   "source": [
    "def createSummary(y_test,y_pred):\n",
    "    class0List=np.where(y_test==0)\n",
    "    class1List=np.where(y_test==1)\n",
    "    sumDict={}\n",
    "    sumDict['accuracy']=np.mean(y_test==y_pred)\n",
    "    sumDict['class0Accuracy']=np.mean(y_test[class0List]==y_pred[class0List])\n",
    "    sumDict['class1Accuracy']=np.mean(y_test[class1List]==y_pred[class1List])\n",
    "    sumDict['precision']=precision_score(y_test,y_pred)\n",
    "    sumDict['recall']=recall_score(y_test,y_pred)\n",
    "    sumDict['f1-score']=f1_score(y_test,y_pred)\n",
    "    sumDict['auc']=roc_auc_score(y_test,y_pred)\n",
    "    sumDict['confuseMatrix']=confusion_matrix(y_test,y_pred)\n",
    "    print(classification_report(y_test,y_pred,target_names=['class 0','class 1']))\n",
    "#     print(sumDict)\n",
    "    return sumDict"
   ]
  },
  {
   "cell_type": "code",
   "execution_count": 60,
   "metadata": {},
   "outputs": [
    {
     "name": "stdout",
     "output_type": "stream",
     "text": [
      "_________________________________________________________________\n",
      "Layer (type)                 Output Shape              Param #   \n",
      "=================================================================\n",
      "embedding_6 (Embedding)      (None, 25, 8)             4000      \n",
      "_________________________________________________________________\n",
      "gru_5 (GRU)                  (None, 1)                 30        \n",
      "_________________________________________________________________\n",
      "dense_6 (Dense)              (None, 1)                 2         \n",
      "=================================================================\n",
      "Total params: 4,032\n",
      "Trainable params: 4,032\n",
      "Non-trainable params: 0\n",
      "_________________________________________________________________\n",
      "None\n",
      "Train on 4638 samples, validate on 980 samples\n",
      "Epoch 1/10\n",
      "4638/4638 [==============================] - 1s 287us/step - loss: 0.6895 - acc: 0.6065 - val_loss: 0.6859 - val_acc: 0.6173\n",
      "Epoch 2/10\n",
      "4638/4638 [==============================] - 0s 83us/step - loss: 0.6791 - acc: 0.7029 - val_loss: 0.6773 - val_acc: 0.6316\n",
      "Epoch 3/10\n",
      "4638/4638 [==============================] - 0s 83us/step - loss: 0.6651 - acc: 0.7251 - val_loss: 0.6684 - val_acc: 0.6296\n",
      "Epoch 4/10\n",
      "4638/4638 [==============================] - 0s 80us/step - loss: 0.6473 - acc: 0.7335 - val_loss: 0.6573 - val_acc: 0.6357\n",
      "Epoch 5/10\n",
      "4638/4638 [==============================] - 0s 87us/step - loss: 0.6275 - acc: 0.7406 - val_loss: 0.6460 - val_acc: 0.6398\n",
      "Epoch 6/10\n",
      "4638/4638 [==============================] - 0s 87us/step - loss: 0.6079 - acc: 0.7454 - val_loss: 0.6395 - val_acc: 0.6316\n",
      "Epoch 7/10\n",
      "4638/4638 [==============================] - 0s 75us/step - loss: 0.5900 - acc: 0.7490 - val_loss: 0.6366 - val_acc: 0.6347\n",
      "Epoch 8/10\n",
      "4638/4638 [==============================] - 0s 83us/step - loss: 0.5752 - acc: 0.7499 - val_loss: 0.6322 - val_acc: 0.6378\n",
      "Epoch 9/10\n",
      "4638/4638 [==============================] - 0s 85us/step - loss: 0.5627 - acc: 0.7531 - val_loss: 0.6306 - val_acc: 0.6408\n",
      "Epoch 10/10\n",
      "4638/4638 [==============================] - 0s 87us/step - loss: 0.5524 - acc: 0.7527 - val_loss: 0.6278 - val_acc: 0.6439\n"
     ]
    },
    {
     "data": {
      "text/plain": [
       "<keras.callbacks.History at 0x7ffb1e118b70>"
      ]
     },
     "execution_count": 60,
     "metadata": {},
     "output_type": "execute_result"
    }
   ],
   "source": [
    "vocab=500\n",
    "\n",
    "embedding_vecor_length = 8\n",
    "model = Sequential()\n",
    "model.add(Embedding(vocab_size, 8, input_length=max_length))\n",
    "model.add(GRU(1))\n",
    "model.add(Dense(1, activation='sigmoid'))\n",
    "model.compile(loss='binary_crossentropy', optimizer='adam', metrics=['accuracy'])\n",
    "print(model.summary())\n",
    "model.fit(X_train, y_train, validation_data=(X_test, y_test), epochs=10,batch_size=128)"
   ]
  },
  {
   "cell_type": "code",
   "execution_count": 49,
   "metadata": {},
   "outputs": [
    {
     "name": "stdout",
     "output_type": "stream",
     "text": [
      "_________________________________________________________________\n",
      "Layer (type)                 Output Shape              Param #   \n",
      "=================================================================\n",
      "embedding_4 (Embedding)      (None, 25, 8)             4000      \n",
      "_________________________________________________________________\n",
      "gru_4 (GRU)                  (None, 1)                 30        \n",
      "_________________________________________________________________\n",
      "dense_4 (Dense)              (None, 1)                 2         \n",
      "=================================================================\n",
      "Total params: 4,032\n",
      "Trainable params: 4,032\n",
      "Non-trainable params: 0\n",
      "_________________________________________________________________\n",
      "None\n"
     ]
    }
   ],
   "source": [
    "# top_words=len(vocab)\n",
    "embedding_vecor_length = 8\n",
    "model = Sequential()\n",
    "model.add(Embedding(vocab_size, 8, input_length=max_length))\n",
    "model.add(GRU(1))\n",
    "model.add(Dense(1, activation='sigmoid'))\n",
    "model.compile(loss='binary_crossentropy', optimizer='adam', metrics=['accuracy'])\n",
    "print(model.summary())\n"
   ]
  },
  {
   "cell_type": "code",
   "execution_count": 56,
   "metadata": {},
   "outputs": [
    {
     "name": "stdout",
     "output_type": "stream",
     "text": [
      "_________________________________________________________________\n",
      "Layer (type)                 Output Shape              Param #   \n",
      "=================================================================\n",
      "embedding_5 (Embedding)      (None, 25, 8)             4000      \n",
      "_________________________________________________________________\n",
      "lstm_1 (LSTM)                (None, 1)                 40        \n",
      "_________________________________________________________________\n",
      "dense_5 (Dense)              (None, 1)                 2         \n",
      "=================================================================\n",
      "Total params: 4,042\n",
      "Trainable params: 4,042\n",
      "Non-trainable params: 0\n",
      "_________________________________________________________________\n",
      "None\n"
     ]
    }
   ],
   "source": [
    "# top_words=len(vocab)\n",
    "embedding_vecor_length = 8\n",
    "model = Sequential()\n",
    "model.add(Embedding(vocab_size, 8, input_length=max_length))\n",
    "model.add(LSTM(1))\n",
    "model.add(Dense(1, activation='sigmoid'))\n",
    "model.compile(loss='binary_crossentropy', optimizer='adam', metrics=['accuracy'])\n",
    "print(model.summary())\n"
   ]
  },
  {
   "cell_type": "code",
   "execution_count": 57,
   "metadata": {
    "scrolled": true
   },
   "outputs": [
    {
     "name": "stdout",
     "output_type": "stream",
     "text": [
      "Train on 4638 samples, validate on 980 samples\n",
      "Epoch 1/10\n",
      "4638/4638 [==============================] - 1s 298us/step - loss: 0.6907 - acc: 0.5962 - val_loss: 0.6859 - val_acc: 0.6959\n",
      "Epoch 2/10\n",
      "4638/4638 [==============================] - 0s 87us/step - loss: 0.6837 - acc: 0.7100 - val_loss: 0.6788 - val_acc: 0.6837\n",
      "Epoch 3/10\n",
      "4638/4638 [==============================] - 0s 99us/step - loss: 0.6734 - acc: 0.7346 - val_loss: 0.6666 - val_acc: 0.6816\n",
      "Epoch 4/10\n",
      "4638/4638 [==============================] - 0s 87us/step - loss: 0.6586 - acc: 0.7426 - val_loss: 0.6474 - val_acc: 0.7020\n",
      "Epoch 5/10\n",
      "4638/4638 [==============================] - 0s 89us/step - loss: 0.6400 - acc: 0.7499 - val_loss: 0.6292 - val_acc: 0.7051\n",
      "Epoch 6/10\n",
      "4638/4638 [==============================] - 0s 97us/step - loss: 0.6192 - acc: 0.7544 - val_loss: 0.6160 - val_acc: 0.6980\n",
      "Epoch 7/10\n",
      "4638/4638 [==============================] - 0s 96us/step - loss: 0.5984 - acc: 0.7646 - val_loss: 0.6032 - val_acc: 0.6969\n",
      "Epoch 8/10\n",
      "4638/4638 [==============================] - 0s 88us/step - loss: 0.5786 - acc: 0.7766 - val_loss: 0.5900 - val_acc: 0.7041\n",
      "Epoch 9/10\n",
      "4638/4638 [==============================] - 0s 96us/step - loss: 0.5609 - acc: 0.7814 - val_loss: 0.5876 - val_acc: 0.6980\n",
      "Epoch 10/10\n",
      "4638/4638 [==============================] - 0s 89us/step - loss: 0.5452 - acc: 0.7868 - val_loss: 0.5851 - val_acc: 0.6939\n"
     ]
    },
    {
     "data": {
      "text/plain": [
       "<keras.callbacks.History at 0x7ffb1fb423c8>"
      ]
     },
     "execution_count": 57,
     "metadata": {},
     "output_type": "execute_result"
    }
   ],
   "source": [
    "model.fit(X_train, y_train, validation_data=(X_test, y_test), epochs=10,batch_size=128)"
   ]
  },
  {
   "cell_type": "code",
   "execution_count": 62,
   "metadata": {},
   "outputs": [],
   "source": [
    "y_prob=model.predict_proba(X_test)"
   ]
  },
  {
   "cell_type": "code",
   "execution_count": 63,
   "metadata": {
    "scrolled": true
   },
   "outputs": [
    {
     "data": {
      "text/plain": [
       "0.6155102040816327"
      ]
     },
     "execution_count": 63,
     "metadata": {},
     "output_type": "execute_result"
    }
   ],
   "source": [
    "np.mean(y_test==np.where(y_prob>0.5,1,0))"
   ]
  },
  {
   "cell_type": "code",
   "execution_count": 64,
   "metadata": {},
   "outputs": [
    {
     "name": "stderr",
     "output_type": "stream",
     "text": [
      "/home/silverstar/anaconda3/lib/python3.6/site-packages/sklearn/metrics/classification.py:1143: UndefinedMetricWarning: Precision and F-score are ill-defined and being set to 0.0 in labels with no predicted samples.\n",
      "  'precision', 'predicted', average, warn_for)\n",
      "/home/silverstar/anaconda3/lib/python3.6/site-packages/sklearn/metrics/classification.py:1143: UndefinedMetricWarning: Precision and F-score are ill-defined and being set to 0.0 in labels with no predicted samples.\n",
      "  'precision', 'predicted', average, warn_for)\n",
      "/home/silverstar/anaconda3/lib/python3.6/site-packages/sklearn/metrics/classification.py:1143: UndefinedMetricWarning: Precision and F-score are ill-defined and being set to 0.0 in labels with no predicted samples.\n",
      "  'precision', 'predicted', average, warn_for)\n",
      "/home/silverstar/anaconda3/lib/python3.6/site-packages/sklearn/metrics/classification.py:1143: UndefinedMetricWarning: Precision and F-score are ill-defined and being set to 0.0 in labels with no predicted samples.\n",
      "  'precision', 'predicted', average, warn_for)\n",
      "/home/silverstar/anaconda3/lib/python3.6/site-packages/sklearn/metrics/classification.py:1143: UndefinedMetricWarning: Precision is ill-defined and being set to 0.0 due to no predicted samples.\n",
      "  'precision', 'predicted', average, warn_for)\n",
      "/home/silverstar/anaconda3/lib/python3.6/site-packages/sklearn/metrics/classification.py:1143: UndefinedMetricWarning: F-score is ill-defined and being set to 0.0 due to no predicted samples.\n",
      "  'precision', 'predicted', average, warn_for)\n",
      "/home/silverstar/anaconda3/lib/python3.6/site-packages/sklearn/metrics/classification.py:1143: UndefinedMetricWarning: Precision and F-score are ill-defined and being set to 0.0 in labels with no predicted samples.\n",
      "  'precision', 'predicted', average, warn_for)\n",
      "/home/silverstar/anaconda3/lib/python3.6/site-packages/sklearn/metrics/classification.py:1143: UndefinedMetricWarning: Precision is ill-defined and being set to 0.0 due to no predicted samples.\n",
      "  'precision', 'predicted', average, warn_for)\n",
      "/home/silverstar/anaconda3/lib/python3.6/site-packages/sklearn/metrics/classification.py:1143: UndefinedMetricWarning: F-score is ill-defined and being set to 0.0 due to no predicted samples.\n",
      "  'precision', 'predicted', average, warn_for)\n",
      "/home/silverstar/anaconda3/lib/python3.6/site-packages/sklearn/metrics/classification.py:1143: UndefinedMetricWarning: Precision and F-score are ill-defined and being set to 0.0 in labels with no predicted samples.\n",
      "  'precision', 'predicted', average, warn_for)\n"
     ]
    },
    {
     "name": "stdout",
     "output_type": "stream",
     "text": [
      "              precision    recall  f1-score   support\n",
      "\n",
      "     class 0       0.00      0.00      0.00       207\n",
      "     class 1       0.79      1.00      0.88       773\n",
      "\n",
      "   micro avg       0.79      0.79      0.79       980\n",
      "   macro avg       0.39      0.50      0.44       980\n",
      "weighted avg       0.62      0.79      0.70       980\n",
      "\n",
      "0.5\n",
      "              precision    recall  f1-score   support\n",
      "\n",
      "     class 0       0.00      0.00      0.00       207\n",
      "     class 1       0.79      1.00      0.88       773\n",
      "\n",
      "   micro avg       0.79      0.79      0.79       980\n",
      "   macro avg       0.39      0.50      0.44       980\n",
      "weighted avg       0.62      0.79      0.70       980\n",
      "\n",
      "0.5\n",
      "              precision    recall  f1-score   support\n",
      "\n",
      "     class 0       0.00      0.00      0.00       207\n",
      "     class 1       0.79      1.00      0.88       773\n",
      "\n",
      "   micro avg       0.79      0.79      0.79       980\n",
      "   macro avg       0.39      0.50      0.44       980\n",
      "weighted avg       0.62      0.79      0.70       980\n",
      "\n",
      "0.5\n",
      "              precision    recall  f1-score   support\n",
      "\n",
      "     class 0       0.00      0.00      0.00       207\n",
      "     class 1       0.79      1.00      0.88       773\n",
      "\n",
      "   micro avg       0.79      0.79      0.79       980\n",
      "   macro avg       0.39      0.50      0.44       980\n",
      "weighted avg       0.62      0.79      0.70       980\n",
      "\n",
      "0.5\n",
      "              precision    recall  f1-score   support\n",
      "\n",
      "     class 0       0.20      0.00      0.01       207\n",
      "     class 1       0.79      0.99      0.88       773\n",
      "\n",
      "   micro avg       0.79      0.79      0.79       980\n",
      "   macro avg       0.49      0.50      0.44       980\n",
      "weighted avg       0.66      0.79      0.70       980\n",
      "\n",
      "0.49982813681559396\n",
      "              precision    recall  f1-score   support\n",
      "\n",
      "     class 0       0.27      0.04      0.08       207\n",
      "     class 1       0.79      0.97      0.87       773\n",
      "\n",
      "   micro avg       0.77      0.77      0.77       980\n",
      "   macro avg       0.53      0.51      0.47       980\n",
      "weighted avg       0.68      0.77      0.70       980\n",
      "\n",
      "0.5062151977051578\n",
      "              precision    recall  f1-score   support\n",
      "\n",
      "     class 0       0.31      0.12      0.17       207\n",
      "     class 1       0.80      0.93      0.86       773\n",
      "\n",
      "   micro avg       0.76      0.76      0.76       980\n",
      "   macro avg       0.55      0.52      0.52       980\n",
      "weighted avg       0.69      0.76      0.71       980\n",
      "\n",
      "0.5241639637274937\n",
      "              precision    recall  f1-score   support\n",
      "\n",
      "     class 0       0.31      0.21      0.25       207\n",
      "     class 1       0.81      0.87      0.84       773\n",
      "\n",
      "   micro avg       0.73      0.73      0.73       980\n",
      "   macro avg       0.56      0.54      0.55       980\n",
      "weighted avg       0.70      0.73      0.71       980\n",
      "\n",
      "0.5435376317878146\n",
      "              precision    recall  f1-score   support\n",
      "\n",
      "     class 0       0.27      0.28      0.28       207\n",
      "     class 1       0.81      0.80      0.80       773\n",
      "\n",
      "   micro avg       0.69      0.69      0.69       980\n",
      "   macro avg       0.54      0.54      0.54       980\n",
      "weighted avg       0.69      0.69      0.69       980\n",
      "\n",
      "0.5411315472061295\n",
      "              precision    recall  f1-score   support\n",
      "\n",
      "     class 0       0.26      0.37      0.30       207\n",
      "     class 1       0.81      0.72      0.76       773\n",
      "\n",
      "   micro avg       0.64      0.64      0.64       980\n",
      "   macro avg       0.53      0.54      0.53       980\n",
      "weighted avg       0.69      0.64      0.66       980\n",
      "\n",
      "0.5425658235996275\n",
      "              precision    recall  f1-score   support\n",
      "\n",
      "     class 0       0.25      0.48      0.33       207\n",
      "     class 1       0.81      0.61      0.70       773\n",
      "\n",
      "   micro avg       0.58      0.58      0.58       980\n",
      "   macro avg       0.53      0.54      0.51       980\n",
      "weighted avg       0.69      0.58      0.62       980\n",
      "\n",
      "0.5449094124778922\n",
      "              precision    recall  f1-score   support\n",
      "\n",
      "     class 0       0.24      0.58      0.34       207\n",
      "     class 1       0.82      0.51      0.63       773\n",
      "\n",
      "   micro avg       0.53      0.53      0.53       980\n",
      "   macro avg       0.53      0.55      0.49       980\n",
      "weighted avg       0.70      0.53      0.57       980\n",
      "\n",
      "0.547121760378974\n",
      "              precision    recall  f1-score   support\n",
      "\n",
      "     class 0       0.24      0.71      0.36       207\n",
      "     class 1       0.84      0.41      0.55       773\n",
      "\n",
      "   micro avg       0.47      0.47      0.47       980\n",
      "   macro avg       0.54      0.56      0.46       980\n",
      "weighted avg       0.72      0.47      0.51       980\n",
      "\n",
      "0.5618863703120411\n",
      "              precision    recall  f1-score   support\n",
      "\n",
      "     class 0       0.23      0.82      0.36       207\n",
      "     class 1       0.85      0.27      0.41       773\n",
      "\n",
      "   micro avg       0.39      0.39      0.39       980\n",
      "   macro avg       0.54      0.54      0.38       980\n",
      "weighted avg       0.72      0.39      0.40       980\n",
      "\n",
      "0.5434001412402897\n",
      "              precision    recall  f1-score   support\n",
      "\n",
      "     class 0       0.22      0.91      0.36       207\n",
      "     class 1       0.86      0.14      0.24       773\n",
      "\n",
      "   micro avg       0.31      0.31      0.31       980\n",
      "   macro avg       0.54      0.53      0.30       980\n",
      "weighted avg       0.72      0.31      0.27       980\n",
      "\n",
      "0.5276730974745487\n",
      "              precision    recall  f1-score   support\n",
      "\n",
      "     class 0       0.21      1.00      0.35       207\n",
      "     class 1       0.88      0.01      0.02       773\n",
      "\n",
      "   micro avg       0.22      0.22      0.22       980\n",
      "   macro avg       0.54      0.50      0.18       980\n",
      "weighted avg       0.73      0.22      0.09       980\n",
      "\n",
      "0.5021123547756091\n",
      "              precision    recall  f1-score   support\n",
      "\n",
      "     class 0       0.21      1.00      0.35       207\n",
      "     class 1       0.00      0.00      0.00       773\n",
      "\n",
      "   micro avg       0.21      0.21      0.21       980\n",
      "   macro avg       0.11      0.50      0.17       980\n",
      "weighted avg       0.04      0.21      0.07       980\n",
      "\n",
      "0.5\n",
      "              precision    recall  f1-score   support\n",
      "\n",
      "     class 0       0.21      1.00      0.35       207\n",
      "     class 1       0.00      0.00      0.00       773\n",
      "\n",
      "   micro avg       0.21      0.21      0.21       980\n",
      "   macro avg       0.11      0.50      0.17       980\n",
      "weighted avg       0.04      0.21      0.07       980\n",
      "\n",
      "0.5\n"
     ]
    },
    {
     "data": {
      "image/png": "[encoded data removed]",
      "text/plain": [
       "<Figure size 432x288 with 1 Axes>"
      ]
     },
     "metadata": {},
     "output_type": "display_data"
    }
   ],
   "source": [
    "accList=[]\n",
    "class0List=[]\n",
    "class1List=[]\n",
    "for i in np.arange(0.05,0.95,0.05):\n",
    "    y_pred_1=np.where(y_prob>i,1,0)\n",
    "    sumDict=createSummary(y_test,y_pred_1)\n",
    "    accList.append(sumDict['accuracy']*100)\n",
    "    class0List.append(sumDict['class0Accuracy']*100)\n",
    "    class1List.append(sumDict['class1Accuracy']*100)\n",
    "    print(sumDict['auc'])\n",
    "plt.plot(accList)\n",
    "plt.plot(class0List)\n",
    "plt.plot(class1List)\n",
    "plt.xlabel(\"CutOff\")\n",
    "plt.ylabel(\"Accuracy\")\n",
    "plt.xticks(np.arange(0,18,1),np.arange(0.05,0.95,0.05),rotation=\"vertical\")\n",
    "plt.savefig(\"plots/TFIDFLightGBMCutoff_ngrams_3.png\")\n",
    "plt.show()"
   ]
  },
  {
   "cell_type": "code",
   "execution_count": 65,
   "metadata": {},
   "outputs": [],
   "source": [
    "y_pred=model.predict_classes(X_test)"
   ]
  },
  {
   "cell_type": "code",
   "execution_count": 59,
   "metadata": {},
   "outputs": [],
   "source": [
    "y_pred_2=np.where(y_prob>0.5,1,0)"
   ]
  },
  {
   "cell_type": "code",
   "execution_count": 66,
   "metadata": {},
   "outputs": [
    {
     "name": "stdout",
     "output_type": "stream",
     "text": [
      "              precision    recall  f1-score   support\n",
      "\n",
      "     class 0       0.26      0.37      0.30       207\n",
      "     class 1       0.81      0.72      0.76       773\n",
      "\n",
      "   micro avg       0.64      0.64      0.64       980\n",
      "   macro avg       0.53      0.54      0.53       980\n",
      "weighted avg       0.69      0.64      0.66       980\n",
      "\n"
     ]
    },
    {
     "data": {
      "text/plain": [
       "{'accuracy': 0.6155102040816327,\n",
       " 'class0Accuracy': 0.3671497584541063,\n",
       " 'class1Accuracy': 0.7179818887451488,\n",
       " 'precision': 0.8090379008746356,\n",
       " 'recall': 0.7179818887451488,\n",
       " 'f1-score': 0.7607950651130911,\n",
       " 'auc': 0.5425658235996275,\n",
       " 'confuseMatrix': array([[ 76, 131],\n",
       "        [218, 555]])}"
      ]
     },
     "execution_count": 66,
     "metadata": {},
     "output_type": "execute_result"
    }
   ],
   "source": [
    "createSummary(y_test,y_pred)"
   ]
  },
  {
   "cell_type": "code",
   "execution_count": 95,
   "metadata": {
    "scrolled": true
   },
   "outputs": [
    {
     "name": "stdout",
     "output_type": "stream",
     "text": [
      "              precision    recall  f1-score   support\n",
      "\n",
      "     class 0       0.47      0.59      0.52       207\n",
      "     class 1       0.88      0.82      0.85       773\n",
      "\n",
      "   micro avg       0.77      0.77      0.77       980\n",
      "   macro avg       0.68      0.71      0.69       980\n",
      "weighted avg       0.80      0.77      0.78       980\n",
      "\n",
      "[[122  85]\n",
      " [137 636]]\n",
      "Accuracy=0.6361370262390671\n"
     ]
    }
   ],
   "source": [
    "print(classification_report(y_test,y_pred,target_names=['class 0','class 1']))\n",
    "print(confusion_matrix(y_test,y_pred))\n",
    "print(\"Accuracy=\"+str(np.mean(y_test==y_pred)))"
   ]
  },
  {
   "cell_type": "code",
   "execution_count": null,
   "metadata": {},
   "outputs": [],
   "source": []
  }
 ],
 "metadata": {
  "kernelspec": {
   "display_name": "Python 3",
   "language": "python",
   "name": "python3"
  },
  "language_info": {
   "codemirror_mode": {
    "name": "ipython",
    "version": 3
   },
   "file_extension": ".py",
   "mimetype": "text/x-python",
   "name": "python",
   "nbconvert_exporter": "python",
   "pygments_lexer": "ipython3",
   "version": "3.6.5"
  }
 },
 "nbformat": 4,
 "nbformat_minor": 2
}
