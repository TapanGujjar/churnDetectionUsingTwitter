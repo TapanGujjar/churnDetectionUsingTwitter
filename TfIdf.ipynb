{
 "cells": [
  {
   "cell_type": "code",
   "execution_count": 2,
   "metadata": {},
   "outputs": [],
   "source": [
    "import pandas as pd\n",
    "import numpy as np"
   ]
  },
  {
   "cell_type": "code",
   "execution_count": 3,
   "metadata": {},
   "outputs": [],
   "source": [
    "from wordcloud import WordCloud, STOPWORDS"
   ]
  },
  {
   "cell_type": "code",
   "execution_count": 4,
   "metadata": {},
   "outputs": [],
   "source": [
    "import lightgbm"
   ]
  },
  {
   "cell_type": "code",
   "execution_count": 5,
   "metadata": {},
   "outputs": [],
   "source": [
    "from sklearn.preprocessing import LabelEncoder"
   ]
  },
  {
   "cell_type": "code",
   "execution_count": 35,
   "metadata": {},
   "outputs": [],
   "source": [
    "from nltk.stem import PorterStemmer"
   ]
  },
  {
   "cell_type": "code",
   "execution_count": 6,
   "metadata": {},
   "outputs": [],
   "source": [
    "from sklearn.neural_network import MLPClassifier\n",
    "from sklearn.naive_bayes import BernoulliNB\n",
    "from sklearn.naive_bayes import GaussianNB"
   ]
  },
  {
   "cell_type": "code",
   "execution_count": 7,
   "metadata": {},
   "outputs": [],
   "source": [
    "from sklearn.model_selection import train_test_split\n",
    "from imblearn.over_sampling import SMOTE\n",
    "from sklearn.linear_model import LogisticRegression\n",
    "from sklearn.ensemble import RandomForestClassifier\n",
    "from sklearn.tree import DecisionTreeClassifier\n",
    "from sklearn.svm import SVC\n",
    "from sklearn.svm import LinearSVC\n",
    "from sklearn.metrics import classification_report\n",
    "from sklearn.metrics import confusion_matrix\n",
    "from sklearn.metrics import recall_score\n",
    "from sklearn.metrics import precision_score\n",
    "from sklearn.metrics import auc\n",
    "from sklearn.metrics import roc_auc_score\n",
    "from sklearn.metrics import f1_score"
   ]
  },
  {
   "cell_type": "code",
   "execution_count": 8,
   "metadata": {},
   "outputs": [],
   "source": [
    "from sklearn.feature_extraction.text import TfidfVectorizer\n",
    "from sklearn.feature_extraction.text import CountVectorizer"
   ]
  },
  {
   "cell_type": "code",
   "execution_count": 9,
   "metadata": {},
   "outputs": [],
   "source": [
    "from nltk.corpus import stopwords\n",
    "stopwords=stopwords.words(\"english\")"
   ]
  },
  {
   "cell_type": "code",
   "execution_count": 10,
   "metadata": {},
   "outputs": [],
   "source": [
    "import re"
   ]
  },
  {
   "cell_type": "code",
   "execution_count": 11,
   "metadata": {},
   "outputs": [],
   "source": [
    "import matplotlib.pyplot as plt"
   ]
  },
  {
   "cell_type": "code",
   "execution_count": 12,
   "metadata": {},
   "outputs": [],
   "source": [
    "df=pd.read_csv(\"dataV2.csv\")"
   ]
  },
  {
   "cell_type": "code",
   "execution_count": 13,
   "metadata": {},
   "outputs": [],
   "source": [
    "df=df[['text','choose_one']]"
   ]
  },
  {
   "cell_type": "markdown",
   "metadata": {},
   "source": [
    "## Feature Selection"
   ]
  },
  {
   "cell_type": "code",
   "execution_count": 14,
   "metadata": {},
   "outputs": [],
   "source": [
    "vocabLen=[]"
   ]
  },
  {
   "cell_type": "code",
   "execution_count": 15,
   "metadata": {},
   "outputs": [],
   "source": [
    "tfIdf=TfidfVectorizer(min_df=0.01,stop_words=None,max_df=0.999,ngram_range=(1,3))"
   ]
  },
  {
   "cell_type": "code",
   "execution_count": 16,
   "metadata": {},
   "outputs": [],
   "source": [
    "X=tfIdf.fit_transform(df['text'])"
   ]
  },
  {
   "cell_type": "code",
   "execution_count": 17,
   "metadata": {},
   "outputs": [],
   "source": [
    "y=LabelEncoder().fit_transform(df['choose_one'])"
   ]
  },
  {
   "cell_type": "code",
   "execution_count": 18,
   "metadata": {},
   "outputs": [],
   "source": [
    "vocabLen.append(len(tfIdf.vocabulary_))"
   ]
  },
  {
   "cell_type": "code",
   "execution_count": 19,
   "metadata": {},
   "outputs": [
    {
     "data": {
      "image/png": "[encoded data removed]",
      "text/plain": [
       "<Figure size 432x288 with 1 Axes>"
      ]
     },
     "metadata": {},
     "output_type": "display_data"
    }
   ],
   "source": [
    "plt.bar([1,2,3],vocabLen)\n",
    "plt.xticks([1,2,3],[1,2,3])\n",
    "plt.xlabel(\"N-Gram\")\n",
    "plt.ylabel(\"Count\")\n",
    "plt.savefig(\"plots/TF-IDF-vocabcount.png\")\n",
    "plt.show()"
   ]
  },
  {
   "cell_type": "markdown",
   "metadata": {},
   "source": [
    "# Performing classification"
   ]
  },
  {
   "cell_type": "code",
   "execution_count": 20,
   "metadata": {},
   "outputs": [],
   "source": [
    "X_train,X_test,y_train,y_test=train_test_split(X,y,stratify=y.ravel(),shuffle=True)"
   ]
  },
  {
   "cell_type": "code",
   "execution_count": 21,
   "metadata": {},
   "outputs": [],
   "source": [
    "def createSummary(y_test,y_pred):\n",
    "    class0List=np.where(y_test==0)\n",
    "    class1List=np.where(y_test==1)\n",
    "    sumDict={}\n",
    "    sumDict['accuracy']=np.mean(y_test==y_pred)\n",
    "    sumDict['class0Accuracy']=np.mean(y_test[class0List]==y_pred[class0List])\n",
    "    sumDict['class1Accuracy']=np.mean(y_test[class1List]==y_pred[class1List])\n",
    "    sumDict['precision']=precision_score(y_test,y_pred)\n",
    "    sumDict['recall']=recall_score(y_test,y_pred)\n",
    "    sumDict['f1-score']=f1_score(y_test,y_pred)\n",
    "    sumDict['auc']=roc_auc_score(y_test,y_pred)\n",
    "    sumDict['confuseMatrix']=confusion_matrix(y_test,y_pred)\n",
    "    print(classification_report(y_test,y_pred,target_names=['class 0','class 1']))\n",
    "#     print(sumDict)\n",
    "    return sumDict"
   ]
  },
  {
   "cell_type": "code",
   "execution_count": 22,
   "metadata": {},
   "outputs": [
    {
     "name": "stdout",
     "output_type": "stream",
     "text": [
      "              precision    recall  f1-score   support\n",
      "\n",
      "     class 0       0.61      0.39      0.47       207\n",
      "     class 1       0.85      0.93      0.89       773\n",
      "\n",
      "   micro avg       0.82      0.82      0.82       980\n",
      "   macro avg       0.73      0.66      0.68       980\n",
      "weighted avg       0.80      0.82      0.80       980\n",
      "\n"
     ]
    },
    {
     "data": {
      "text/plain": [
       "{'accuracy': 0.8173469387755102,\n",
       " 'class0Accuracy': 0.3864734299516908,\n",
       " 'class1Accuracy': 0.9327296248382924,\n",
       " 'precision': 0.8502358490566038,\n",
       " 'recall': 0.9327296248382924,\n",
       " 'f1-score': 0.8895743368291178,\n",
       " 'auc': 0.6596015273949916,\n",
       " 'confuseMatrix': array([[ 80, 127],\n",
       "        [ 52, 721]])}"
      ]
     },
     "execution_count": 22,
     "metadata": {},
     "output_type": "execute_result"
    }
   ],
   "source": [
    "nb=BernoulliNB()\n",
    "nb.fit(X_train,y_train)\n",
    "y_pred=nb.predict(X_test)\n",
    "createSummary(y_test,y_pred)"
   ]
  },
  {
   "cell_type": "code",
   "execution_count": 23,
   "metadata": {},
   "outputs": [
    {
     "ename": "AttributeError",
     "evalue": "t not found",
     "output_type": "error",
     "traceback": [
      "\u001b[0;31m---------------------------------------------------------------------------\u001b[0m",
      "\u001b[0;31mAttributeError\u001b[0m                            Traceback (most recent call last)",
      "\u001b[0;32m<ipython-input-23-6fd1a9ef3c3c>\u001b[0m in \u001b[0;36m<module>\u001b[0;34m()\u001b[0m\n\u001b[0;32m----> 1\u001b[0;31m \u001b[0mX_train\u001b[0m\u001b[0;34m.\u001b[0m\u001b[0mt\u001b[0m\u001b[0;34m\u001b[0m\u001b[0m\n\u001b[0m",
      "\u001b[0;32m~/anaconda3/lib/python3.6/site-packages/scipy/sparse/base.py\u001b[0m in \u001b[0;36m__getattr__\u001b[0;34m(self, attr)\u001b[0m\n\u001b[1;32m    684\u001b[0m             \u001b[0;32mreturn\u001b[0m \u001b[0mself\u001b[0m\u001b[0;34m.\u001b[0m\u001b[0mgetnnz\u001b[0m\u001b[0;34m(\u001b[0m\u001b[0;34m)\u001b[0m\u001b[0;34m\u001b[0m\u001b[0m\n\u001b[1;32m    685\u001b[0m         \u001b[0;32melse\u001b[0m\u001b[0;34m:\u001b[0m\u001b[0;34m\u001b[0m\u001b[0m\n\u001b[0;32m--> 686\u001b[0;31m             \u001b[0;32mraise\u001b[0m \u001b[0mAttributeError\u001b[0m\u001b[0;34m(\u001b[0m\u001b[0mattr\u001b[0m \u001b[0;34m+\u001b[0m \u001b[0;34m\" not found\"\u001b[0m\u001b[0;34m)\u001b[0m\u001b[0;34m\u001b[0m\u001b[0m\n\u001b[0m\u001b[1;32m    687\u001b[0m \u001b[0;34m\u001b[0m\u001b[0m\n\u001b[1;32m    688\u001b[0m     \u001b[0;32mdef\u001b[0m \u001b[0mtranspose\u001b[0m\u001b[0;34m(\u001b[0m\u001b[0mself\u001b[0m\u001b[0;34m,\u001b[0m \u001b[0maxes\u001b[0m\u001b[0;34m=\u001b[0m\u001b[0;32mNone\u001b[0m\u001b[0;34m,\u001b[0m \u001b[0mcopy\u001b[0m\u001b[0;34m=\u001b[0m\u001b[0;32mFalse\u001b[0m\u001b[0;34m)\u001b[0m\u001b[0;34m:\u001b[0m\u001b[0;34m\u001b[0m\u001b[0m\n",
      "\u001b[0;31mAttributeError\u001b[0m: t not found"
     ]
    }
   ],
   "source": [
    "X_train.t"
   ]
  },
  {
   "cell_type": "code",
   "execution_count": null,
   "metadata": {},
   "outputs": [],
   "source": [
    "gs=GaussianNB()\n",
    "gs.fit(X_train.toarray(),y_train)\n",
    "y_pred=gs.predict(X_test)\n",
    "createSummary(y_test,y_pred)"
   ]
  },
  {
   "cell_type": "code",
   "execution_count": null,
   "metadata": {},
   "outputs": [],
   "source": [
    "mlp=MLPClassifier(hidden_layer_sizes=200)\n",
    "mlp.fit(X_train,y_train)\n",
    "y_pred=mlp.predict(X_test)\n",
    "createSummary(y_test,y_pred)"
   ]
  },
  {
   "cell_type": "code",
   "execution_count": null,
   "metadata": {},
   "outputs": [],
   "source": [
    "decTree=DecisionTreeClassifier()\n",
    "decTree.fit(X_train,y_train)\n",
    "y_pred=decTree.predict(X_test)\n",
    "createSummary(y_test,y_pred)"
   ]
  },
  {
   "cell_type": "code",
   "execution_count": null,
   "metadata": {},
   "outputs": [],
   "source": [
    "svcModel=SVC()\n",
    "svcModel.fit(X_train,y_train)\n",
    "y_pred=svcModel.predict(X_test)\n",
    "createSummary(y_test,y_pred)"
   ]
  },
  {
   "cell_type": "code",
   "execution_count": 24,
   "metadata": {
    "scrolled": true
   },
   "outputs": [
    {
     "name": "stdout",
     "output_type": "stream",
     "text": [
      "              precision    recall  f1-score   support\n",
      "\n",
      "     class 0       0.67      0.33      0.45       207\n",
      "     class 1       0.84      0.96      0.90       773\n",
      "\n",
      "   micro avg       0.82      0.82      0.82       980\n",
      "   macro avg       0.76      0.64      0.67       980\n",
      "weighted avg       0.81      0.82      0.80       980\n",
      "\n"
     ]
    },
    {
     "name": "stderr",
     "output_type": "stream",
     "text": [
      "/home/silverstar/anaconda3/lib/python3.6/site-packages/sklearn/linear_model/logistic.py:433: FutureWarning: Default solver will be changed to 'lbfgs' in 0.22. Specify a solver to silence this warning.\n",
      "  FutureWarning)\n"
     ]
    },
    {
     "data": {
      "text/plain": [
       "{'accuracy': 0.8244897959183674,\n",
       " 'class0Accuracy': 0.3333333333333333,\n",
       " 'class1Accuracy': 0.9560155239327296,\n",
       " 'precision': 0.8426453819840365,\n",
       " 'recall': 0.9560155239327296,\n",
       " 'f1-score': 0.8957575757575759,\n",
       " 'auc': 0.6446744286330315,\n",
       " 'confuseMatrix': array([[ 69, 138],\n",
       "        [ 34, 739]])}"
      ]
     },
     "execution_count": 24,
     "metadata": {},
     "output_type": "execute_result"
    }
   ],
   "source": [
    "LogReg=LogisticRegression()\n",
    "LogReg.fit(X_train,y_train)\n",
    "y_pred=LogReg.predict(X_test)\n",
    "createSummary(y_test,y_pred)"
   ]
  },
  {
   "cell_type": "code",
   "execution_count": 25,
   "metadata": {},
   "outputs": [
    {
     "name": "stderr",
     "output_type": "stream",
     "text": [
      "/home/silverstar/anaconda3/lib/python3.6/site-packages/sklearn/ensemble/forest.py:246: FutureWarning: The default value of n_estimators will change from 10 in version 0.20 to 100 in 0.22.\n",
      "  \"10 in version 0.20 to 100 in 0.22.\", FutureWarning)\n"
     ]
    },
    {
     "name": "stdout",
     "output_type": "stream",
     "text": [
      "              precision    recall  f1-score   support\n",
      "\n",
      "     class 0       0.44      0.48      0.46       207\n",
      "     class 1       0.86      0.84      0.85       773\n",
      "\n",
      "   micro avg       0.76      0.76      0.76       980\n",
      "   macro avg       0.65      0.66      0.65       980\n",
      "weighted avg       0.77      0.76      0.77       980\n",
      "\n"
     ]
    },
    {
     "data": {
      "text/plain": [
       "{'accuracy': 0.7612244897959184,\n",
       " 'class0Accuracy': 0.4830917874396135,\n",
       " 'class1Accuracy': 0.8357050452781372,\n",
       " 'precision': 0.8579017264276229,\n",
       " 'recall': 0.8357050452781372,\n",
       " 'f1-score': 0.8466579292267364,\n",
       " 'auc': 0.6593984163588753,\n",
       " 'confuseMatrix': array([[100, 107],\n",
       "        [127, 646]])}"
      ]
     },
     "execution_count": 25,
     "metadata": {},
     "output_type": "execute_result"
    }
   ],
   "source": [
    "RanFor=RandomForestClassifier(class_weight={0:45,1:1})\n",
    "RanFor.fit(X_train,y_train)\n",
    "y_pred=RanFor.predict(X_test)\n",
    "createSummary(y_test,y_pred)"
   ]
  },
  {
   "cell_type": "code",
   "execution_count": 26,
   "metadata": {},
   "outputs": [
    {
     "name": "stdout",
     "output_type": "stream",
     "text": [
      "              precision    recall  f1-score   support\n",
      "\n",
      "     class 0       0.67      0.40      0.50       207\n",
      "     class 1       0.85      0.95      0.90       773\n",
      "\n",
      "   micro avg       0.83      0.83      0.83       980\n",
      "   macro avg       0.76      0.67      0.70       980\n",
      "weighted avg       0.81      0.83      0.81       980\n",
      "\n"
     ]
    },
    {
     "data": {
      "text/plain": [
       "{'accuracy': 0.8306122448979592,\n",
       " 'class0Accuracy': 0.3961352657004831,\n",
       " 'class1Accuracy': 0.9469598965071151,\n",
       " 'precision': 0.8541423570595099,\n",
       " 'recall': 0.9469598965071151,\n",
       " 'f1-score': 0.898159509202454,\n",
       " 'auc': 0.6715475811037991,\n",
       " 'confuseMatrix': array([[ 82, 125],\n",
       "        [ 41, 732]])}"
      ]
     },
     "execution_count": 26,
     "metadata": {},
     "output_type": "execute_result"
    }
   ],
   "source": [
    "linSvc=LinearSVC()\n",
    "linSvc.fit(X_train,y_train)\n",
    "y_pred=linSvc.predict(X_test)\n",
    "createSummary(y_test,y_pred)"
   ]
  },
  {
   "cell_type": "code",
   "execution_count": 27,
   "metadata": {},
   "outputs": [
    {
     "name": "stdout",
     "output_type": "stream",
     "text": [
      "[1]\tvalid_0's auc: 0.702302\n",
      "Training until validation scores don't improve for 100 rounds.\n",
      "[2]\tvalid_0's auc: 0.730862\n",
      "[3]\tvalid_0's auc: 0.733968\n",
      "[4]\tvalid_0's auc: 0.731525\n",
      "[5]\tvalid_0's auc: 0.736165\n",
      "[6]\tvalid_0's auc: 0.740877\n",
      "[7]\tvalid_0's auc: 0.746205\n",
      "[8]\tvalid_0's auc: 0.745711\n",
      "[9]\tvalid_0's auc: 0.750195\n",
      "[10]\tvalid_0's auc: 0.752873\n",
      "[11]\tvalid_0's auc: 0.755264\n",
      "[12]\tvalid_0's auc: 0.752317\n",
      "[13]\tvalid_0's auc: 0.750517\n",
      "[14]\tvalid_0's auc: 0.751136\n",
      "[15]\tvalid_0's auc: 0.751411\n",
      "[16]\tvalid_0's auc: 0.749686\n",
      "[17]\tvalid_0's auc: 0.751273\n",
      "[18]\tvalid_0's auc: 0.751439\n",
      "[19]\tvalid_0's auc: 0.750383\n",
      "[20]\tvalid_0's auc: 0.750252\n",
      "[21]\tvalid_0's auc: 0.752383\n",
      "[22]\tvalid_0's auc: 0.75462\n",
      "[23]\tvalid_0's auc: 0.75782\n",
      "[24]\tvalid_0's auc: 0.76167\n",
      "[25]\tvalid_0's auc: 0.764085\n",
      "[26]\tvalid_0's auc: 0.764322\n",
      "[27]\tvalid_0's auc: 0.766497\n",
      "[28]\tvalid_0's auc: 0.769635\n",
      "[29]\tvalid_0's auc: 0.769878\n",
      "[30]\tvalid_0's auc: 0.770444\n",
      "[31]\tvalid_0's auc: 0.770613\n",
      "[32]\tvalid_0's auc: 0.7706\n",
      "[33]\tvalid_0's auc: 0.76745\n",
      "[34]\tvalid_0's auc: 0.768032\n",
      "[35]\tvalid_0's auc: 0.767719\n",
      "[36]\tvalid_0's auc: 0.769338\n",
      "[37]\tvalid_0's auc: 0.768816\n",
      "[38]\tvalid_0's auc: 0.768666\n",
      "[39]\tvalid_0's auc: 0.768653\n",
      "[40]\tvalid_0's auc: 0.768978\n",
      "[41]\tvalid_0's auc: 0.771159\n",
      "[42]\tvalid_0's auc: 0.772159\n",
      "[43]\tvalid_0's auc: 0.777415\n",
      "[44]\tvalid_0's auc: 0.780915\n",
      "[45]\tvalid_0's auc: 0.783859\n",
      "[46]\tvalid_0's auc: 0.783921\n",
      "[47]\tvalid_0's auc: 0.786858\n",
      "[48]\tvalid_0's auc: 0.788465\n",
      "[49]\tvalid_0's auc: 0.790055\n",
      "[50]\tvalid_0's auc: 0.790624\n",
      "[51]\tvalid_0's auc: 0.792455\n",
      "[52]\tvalid_0's auc: 0.794239\n",
      "[53]\tvalid_0's auc: 0.794983\n",
      "[54]\tvalid_0's auc: 0.794789\n",
      "[55]\tvalid_0's auc: 0.795733\n",
      "[56]\tvalid_0's auc: 0.795252\n",
      "[57]\tvalid_0's auc: 0.795095\n",
      "[58]\tvalid_0's auc: 0.794889\n",
      "[59]\tvalid_0's auc: 0.794902\n",
      "[60]\tvalid_0's auc: 0.795602\n",
      "[61]\tvalid_0's auc: 0.795883\n",
      "[62]\tvalid_0's auc: 0.795645\n",
      "[63]\tvalid_0's auc: 0.794683\n",
      "[64]\tvalid_0's auc: 0.794158\n",
      "[65]\tvalid_0's auc: 0.793802\n",
      "[66]\tvalid_0's auc: 0.794402\n",
      "[67]\tvalid_0's auc: 0.794308\n",
      "[68]\tvalid_0's auc: 0.793827\n",
      "[69]\tvalid_0's auc: 0.792839\n",
      "[70]\tvalid_0's auc: 0.791814\n",
      "[71]\tvalid_0's auc: 0.792014\n",
      "[72]\tvalid_0's auc: 0.791033\n",
      "[73]\tvalid_0's auc: 0.791752\n",
      "[74]\tvalid_0's auc: 0.791014\n",
      "[75]\tvalid_0's auc: 0.791264\n",
      "[76]\tvalid_0's auc: 0.791921\n",
      "[77]\tvalid_0's auc: 0.791639\n",
      "[78]\tvalid_0's auc: 0.791346\n",
      "[79]\tvalid_0's auc: 0.792127\n",
      "[80]\tvalid_0's auc: 0.791814\n",
      "[81]\tvalid_0's auc: 0.790877\n",
      "[82]\tvalid_0's auc: 0.791164\n",
      "[83]\tvalid_0's auc: 0.791546\n",
      "[84]\tvalid_0's auc: 0.791671\n",
      "[85]\tvalid_0's auc: 0.791196\n",
      "[86]\tvalid_0's auc: 0.789683\n",
      "[87]\tvalid_0's auc: 0.790114\n",
      "[88]\tvalid_0's auc: 0.790408\n",
      "[89]\tvalid_0's auc: 0.790214\n",
      "[90]\tvalid_0's auc: 0.789552\n",
      "[91]\tvalid_0's auc: 0.789452\n",
      "[92]\tvalid_0's auc: 0.789305\n",
      "[93]\tvalid_0's auc: 0.788755\n",
      "[94]\tvalid_0's auc: 0.788436\n",
      "[95]\tvalid_0's auc: 0.788555\n",
      "[96]\tvalid_0's auc: 0.786999\n",
      "[97]\tvalid_0's auc: 0.786724\n",
      "[98]\tvalid_0's auc: 0.786343\n",
      "[99]\tvalid_0's auc: 0.786762\n",
      "[100]\tvalid_0's auc: 0.786837\n",
      "[101]\tvalid_0's auc: 0.786233\n",
      "[102]\tvalid_0's auc: 0.785346\n",
      "[103]\tvalid_0's auc: 0.785721\n",
      "[104]\tvalid_0's auc: 0.785821\n",
      "[105]\tvalid_0's auc: 0.784165\n",
      "[106]\tvalid_0's auc: 0.784034\n",
      "[107]\tvalid_0's auc: 0.78354\n",
      "[108]\tvalid_0's auc: 0.784421\n",
      "[109]\tvalid_0's auc: 0.784959\n",
      "[110]\tvalid_0's auc: 0.784096\n",
      "[111]\tvalid_0's auc: 0.784477\n",
      "[112]\tvalid_0's auc: 0.784765\n",
      "[113]\tvalid_0's auc: 0.784765\n",
      "[114]\tvalid_0's auc: 0.783615\n",
      "[115]\tvalid_0's auc: 0.782827\n",
      "[116]\tvalid_0's auc: 0.782946\n",
      "[117]\tvalid_0's auc: 0.782684\n",
      "[118]\tvalid_0's auc: 0.781959\n",
      "[119]\tvalid_0's auc: 0.781721\n",
      "[120]\tvalid_0's auc: 0.781671\n",
      "[121]\tvalid_0's auc: 0.781071\n",
      "[122]\tvalid_0's auc: 0.780696\n",
      "[123]\tvalid_0's auc: 0.780403\n",
      "[124]\tvalid_0's auc: 0.780403\n",
      "[125]\tvalid_0's auc: 0.779653\n",
      "[126]\tvalid_0's auc: 0.779203\n",
      "[127]\tvalid_0's auc: 0.778859\n",
      "[128]\tvalid_0's auc: 0.779009\n",
      "[129]\tvalid_0's auc: 0.779703\n",
      "[130]\tvalid_0's auc: 0.779409\n",
      "[131]\tvalid_0's auc: 0.77949\n",
      "[132]\tvalid_0's auc: 0.779253\n",
      "[133]\tvalid_0's auc: 0.779059\n",
      "[134]\tvalid_0's auc: 0.779309\n",
      "[135]\tvalid_0's auc: 0.779634\n",
      "[136]\tvalid_0's auc: 0.779184\n",
      "[137]\tvalid_0's auc: 0.778628\n",
      "[138]\tvalid_0's auc: 0.778353\n",
      "[139]\tvalid_0's auc: 0.779121\n",
      "[140]\tvalid_0's auc: 0.779021\n",
      "[141]\tvalid_0's auc: 0.77924\n",
      "[142]\tvalid_0's auc: 0.779415\n",
      "[143]\tvalid_0's auc: 0.77959\n",
      "[144]\tvalid_0's auc: 0.779259\n",
      "[145]\tvalid_0's auc: 0.779246\n",
      "[146]\tvalid_0's auc: 0.779671\n",
      "[147]\tvalid_0's auc: 0.779271\n",
      "[148]\tvalid_0's auc: 0.779909\n",
      "[149]\tvalid_0's auc: 0.780365\n",
      "[150]\tvalid_0's auc: 0.779465\n",
      "[151]\tvalid_0's auc: 0.779284\n",
      "[152]\tvalid_0's auc: 0.779259\n",
      "[153]\tvalid_0's auc: 0.778728\n",
      "[154]\tvalid_0's auc: 0.778521\n",
      "[155]\tvalid_0's auc: 0.778028\n",
      "[156]\tvalid_0's auc: 0.77779\n",
      "[157]\tvalid_0's auc: 0.778228\n",
      "[158]\tvalid_0's auc: 0.778534\n",
      "[159]\tvalid_0's auc: 0.77839\n",
      "[160]\tvalid_0's auc: 0.777872\n",
      "[161]\tvalid_0's auc: 0.778009\n",
      "Early stopping, best iteration is:\n",
      "[61]\tvalid_0's auc: 0.795883\n"
     ]
    }
   ],
   "source": [
    "parameters = {\n",
    "    'application': 'binary',\n",
    "    'objective': 'binary',\n",
    "    'metric': 'auc',\n",
    "    'is_unbalance': 'true',\n",
    "    'boosting': 'gbdt',\n",
    "    'num_leaves': 31,\n",
    "    'feature_fraction': 0.5,\n",
    "    'bagging_fraction': 0.5,\n",
    "    'bagging_freq': 20,\n",
    "    'learning_rate': 0.05,\n",
    "    'verbose': 0\n",
    "}\n",
    "X_test=X_test.astype(\"float\")\n",
    "X_train=X_train.astype(\"float\")\n",
    "y_train=y_train.astype(\"float\")\n",
    "y_test=y_test.astype(\"float\")\n",
    "\n",
    "train_data = lightgbm.Dataset(X_train, label=y_train)\n",
    "test_data = lightgbm.Dataset(X_test, label=y_test)\n",
    "model = lightgbm.train(parameters,\n",
    "                       train_data,\n",
    "                       valid_sets=test_data,\n",
    "                       num_boost_round=5000,\n",
    "                       early_stopping_rounds=100)\n",
    "#"
   ]
  },
  {
   "cell_type": "code",
   "execution_count": 28,
   "metadata": {},
   "outputs": [],
   "source": [
    "y_pred=model.predict(X_test)"
   ]
  },
  {
   "cell_type": "code",
   "execution_count": 29,
   "metadata": {},
   "outputs": [
    {
     "name": "stderr",
     "output_type": "stream",
     "text": [
      "/home/silverstar/anaconda3/lib/python3.6/site-packages/sklearn/metrics/classification.py:1143: UndefinedMetricWarning: Precision and F-score are ill-defined and being set to 0.0 in labels with no predicted samples.\n",
      "  'precision', 'predicted', average, warn_for)\n"
     ]
    },
    {
     "name": "stdout",
     "output_type": "stream",
     "text": [
      "              precision    recall  f1-score   support\n",
      "\n",
      "     class 0       0.00      0.00      0.00       207\n",
      "     class 1       0.79      1.00      0.88       773\n",
      "\n",
      "   micro avg       0.79      0.79      0.79       980\n",
      "   macro avg       0.39      0.50      0.44       980\n",
      "weighted avg       0.62      0.79      0.70       980\n",
      "\n",
      "              precision    recall  f1-score   support\n",
      "\n",
      "     class 0       0.50      0.00      0.01       207\n",
      "     class 1       0.79      1.00      0.88       773\n",
      "\n",
      "   micro avg       0.79      0.79      0.79       980\n",
      "   macro avg       0.64      0.50      0.45       980\n",
      "weighted avg       0.73      0.79      0.70       980\n",
      "\n",
      "              precision    recall  f1-score   support\n",
      "\n",
      "     class 0       0.57      0.02      0.04       207\n",
      "     class 1       0.79      1.00      0.88       773\n",
      "\n",
      "   micro avg       0.79      0.79      0.79       980\n",
      "   macro avg       0.68      0.51      0.46       980\n",
      "weighted avg       0.74      0.79      0.70       980\n",
      "\n",
      "              precision    recall  f1-score   support\n",
      "\n",
      "     class 0       0.59      0.08      0.14       207\n",
      "     class 1       0.80      0.98      0.88       773\n",
      "\n",
      "   micro avg       0.79      0.79      0.79       980\n",
      "   macro avg       0.69      0.53      0.51       980\n",
      "weighted avg       0.76      0.79      0.73       980\n",
      "\n",
      "              precision    recall  f1-score   support\n",
      "\n",
      "     class 0       0.59      0.17      0.26       207\n",
      "     class 1       0.81      0.97      0.88       773\n",
      "\n",
      "   micro avg       0.80      0.80      0.80       980\n",
      "   macro avg       0.70      0.57      0.57       980\n",
      "weighted avg       0.77      0.80      0.75       980\n",
      "\n",
      "              precision    recall  f1-score   support\n",
      "\n",
      "     class 0       0.60      0.29      0.39       207\n",
      "     class 1       0.83      0.95      0.89       773\n",
      "\n",
      "   micro avg       0.81      0.81      0.81       980\n",
      "   macro avg       0.72      0.62      0.64       980\n",
      "weighted avg       0.78      0.81      0.78       980\n",
      "\n",
      "              precision    recall  f1-score   support\n",
      "\n",
      "     class 0       0.57      0.41      0.47       207\n",
      "     class 1       0.85      0.92      0.88       773\n",
      "\n",
      "   micro avg       0.81      0.81      0.81       980\n",
      "   macro avg       0.71      0.66      0.68       980\n",
      "weighted avg       0.79      0.81      0.80       980\n",
      "\n",
      "              precision    recall  f1-score   support\n",
      "\n",
      "     class 0       0.54      0.48      0.51       207\n",
      "     class 1       0.87      0.89      0.88       773\n",
      "\n",
      "   micro avg       0.80      0.80      0.80       980\n",
      "   macro avg       0.70      0.69      0.69       980\n",
      "weighted avg       0.80      0.80      0.80       980\n",
      "\n",
      "              precision    recall  f1-score   support\n",
      "\n",
      "     class 0       0.53      0.59      0.56       207\n",
      "     class 1       0.89      0.86      0.87       773\n",
      "\n",
      "   micro avg       0.81      0.81      0.81       980\n",
      "   macro avg       0.71      0.73      0.72       980\n",
      "weighted avg       0.81      0.81      0.81       980\n",
      "\n",
      "              precision    recall  f1-score   support\n",
      "\n",
      "     class 0       0.49      0.64      0.55       207\n",
      "     class 1       0.90      0.82      0.85       773\n",
      "\n",
      "   micro avg       0.78      0.78      0.78       980\n",
      "   macro avg       0.69      0.73      0.70       980\n",
      "weighted avg       0.81      0.78      0.79       980\n",
      "\n",
      "              precision    recall  f1-score   support\n",
      "\n",
      "     class 0       0.45      0.72      0.55       207\n",
      "     class 1       0.91      0.76      0.83       773\n",
      "\n",
      "   micro avg       0.75      0.75      0.75       980\n",
      "   macro avg       0.68      0.74      0.69       980\n",
      "weighted avg       0.81      0.75      0.77       980\n",
      "\n",
      "              precision    recall  f1-score   support\n",
      "\n",
      "     class 0       0.39      0.75      0.51       207\n",
      "     class 1       0.91      0.69      0.78       773\n",
      "\n",
      "   micro avg       0.70      0.70      0.70       980\n",
      "   macro avg       0.65      0.72      0.65       980\n",
      "weighted avg       0.80      0.70      0.73       980\n",
      "\n",
      "              precision    recall  f1-score   support\n",
      "\n",
      "     class 0       0.36      0.80      0.50       207\n",
      "     class 1       0.92      0.62      0.74       773\n",
      "\n",
      "   micro avg       0.66      0.66      0.66       980\n",
      "   macro avg       0.64      0.71      0.62       980\n",
      "weighted avg       0.80      0.66      0.69       980\n",
      "\n",
      "              precision    recall  f1-score   support\n",
      "\n",
      "     class 0       0.31      0.87      0.46       207\n",
      "     class 1       0.93      0.47      0.63       773\n",
      "\n",
      "   micro avg       0.56      0.56      0.56       980\n",
      "   macro avg       0.62      0.67      0.54       980\n",
      "weighted avg       0.80      0.56      0.59       980\n",
      "\n",
      "              precision    recall  f1-score   support\n",
      "\n",
      "     class 0       0.28      0.91      0.43       207\n",
      "     class 1       0.94      0.38      0.54       773\n",
      "\n",
      "   micro avg       0.49      0.49      0.49       980\n",
      "   macro avg       0.61      0.64      0.48       980\n",
      "weighted avg       0.80      0.49      0.52       980\n",
      "\n",
      "              precision    recall  f1-score   support\n",
      "\n",
      "     class 0       0.26      0.95      0.41       207\n",
      "     class 1       0.96      0.28      0.43       773\n",
      "\n",
      "   micro avg       0.42      0.42      0.42       980\n",
      "   macro avg       0.61      0.61      0.42       980\n",
      "weighted avg       0.81      0.42      0.43       980\n",
      "\n",
      "              precision    recall  f1-score   support\n",
      "\n",
      "     class 0       0.24      0.98      0.39       207\n",
      "     class 1       0.97      0.19      0.31       773\n",
      "\n",
      "   micro avg       0.36      0.36      0.36       980\n",
      "   macro avg       0.61      0.58      0.35       980\n",
      "weighted avg       0.82      0.36      0.33       980\n",
      "\n",
      "              precision    recall  f1-score   support\n",
      "\n",
      "     class 0       0.22      1.00      0.36       207\n",
      "     class 1       0.98      0.06      0.12       773\n",
      "\n",
      "   micro avg       0.26      0.26      0.26       980\n",
      "   macro avg       0.60      0.53      0.24       980\n",
      "weighted avg       0.82      0.26      0.17       980\n",
      "\n"
     ]
    },
    {
     "data": {
      "image/png": "[encoded data removed]",
      "text/plain": [
       "<Figure size 432x288 with 1 Axes>"
      ]
     },
     "metadata": {},
     "output_type": "display_data"
    }
   ],
   "source": [
    "accList=[]\n",
    "class0List=[]\n",
    "class1List=[]\n",
    "for i in np.arange(0.05,0.95,0.05):\n",
    "    y_pred_1=np.where(y_pred>i,1,0)\n",
    "    sumDict=createSummary(y_test,y_pred_1)\n",
    "    accList.append(sumDict['accuracy']*100)\n",
    "    class0List.append(sumDict['class0Accuracy']*100)\n",
    "    class1List.append(sumDict['class1Accuracy']*100)\n",
    "plt.plot(accList)\n",
    "plt.plot(class0List)\n",
    "plt.plot(class1List)\n",
    "plt.xlabel(\"CutOff\")\n",
    "plt.ylabel(\"Accuracy\")\n",
    "plt.xticks(np.arange(0,18,1),np.arange(0.05,0.95,0.05),rotation=\"vertical\")\n",
    "plt.savefig(\"plots/TFIDFLightGBMCutoff_ngrams_3.png\")\n",
    "plt.show()"
   ]
  },
  {
   "cell_type": "code",
   "execution_count": 30,
   "metadata": {},
   "outputs": [
    {
     "name": "stdout",
     "output_type": "stream",
     "text": [
      "              precision    recall  f1-score   support\n",
      "\n",
      "     class 0       0.45      0.72      0.55       207\n",
      "     class 1       0.91      0.76      0.83       773\n",
      "\n",
      "   micro avg       0.75      0.75      0.75       980\n",
      "   macro avg       0.68      0.74      0.69       980\n",
      "weighted avg       0.81      0.75      0.77       980\n",
      "\n"
     ]
    },
    {
     "data": {
      "text/plain": [
       "{'accuracy': 0.7540816326530613,\n",
       " 'class0Accuracy': 0.7246376811594203,\n",
       " 'class1Accuracy': 0.7619663648124192,\n",
       " 'precision': 0.9117647058823529,\n",
       " 'recall': 0.7619663648124192,\n",
       " 'f1-score': 0.8301620859760395,\n",
       " 'auc': 0.7433020229859196,\n",
       " 'confuseMatrix': array([[150,  57],\n",
       "        [184, 589]])}"
      ]
     },
     "execution_count": 30,
     "metadata": {},
     "output_type": "execute_result"
    }
   ],
   "source": [
    "y_pred_1=np.where(y_pred>0.55,1,0)\n",
    "createSummary(y_test,y_pred_1)"
   ]
  },
  {
   "cell_type": "code",
   "execution_count": 38,
   "metadata": {},
   "outputs": [],
   "source": [
    "porter=PorterStemmer()\n",
    "def preprocessing(a_tweet):\n",
    "    cleanTweet=[]\n",
    "    a_tweet=a_tweet.replace(\"&amp;\",'&')\n",
    "    a_tweet=a_tweet.replace(\".\",\"\")\n",
    "    a_tweet=a_tweet.lower()\n",
    "    a_tweet=a_tweet.split(\" \")\n",
    "    for word in a_tweet:\n",
    "        word=word.strip()\n",
    "\n",
    "        valid=re.search(pattern=r\"[^A-Za-z-&<>]\",string=word)==None\n",
    "        if(word!=\"\" and valid==True and word not in stopwords):\n",
    "            word=porter.stem(word)\n",
    "            cleanTweet.append(word)\n",
    "    if(len(cleanTweet)==0):\n",
    "        return None\n",
    "    else:\n",
    "        return \" \".join(cleanTweet)\n",
    "    return \" \".join(cleanTweet)"
   ]
  },
  {
   "cell_type": "code",
   "execution_count": 54,
   "metadata": {},
   "outputs": [],
   "source": [
    "brands={}\n",
    "brands['t-mobile']=['t-mobile','tmobile','tmobi']\n",
    "brands['verizon']=['verizon','veryzon']\n",
    "brands['at&t']=['att','at&t',]\n",
    "\n",
    "def generatePrediction(tweet,brand):\n",
    "    tweet=tweet.replace(\"&amp;\",\"&\")\n",
    "    tweet=tweet.replace(\"amp;\",'&')\n",
    "    tweet=preprocessing(tweet)\n",
    "    for key,value in brands.items():\n",
    "        if(key==brand):\n",
    "            replaceWord=\" <bb> \"\n",
    "        else:\n",
    "            replaceWord=\" <aa> \"\n",
    "            \n",
    "        for name in value:\n",
    "            tweet=tweet.replace(name,replaceWord)\n",
    "            \n",
    "    fect=tfIdf.transform([tweet])\n",
    "    fect=model.predict(fect)\n",
    "    if(fect<0.55):\n",
    "        return \"Churny\"\n",
    "    else:\n",
    "        return \"Non-Churny\""
   ]
  },
  {
   "cell_type": "code",
   "execution_count": 55,
   "metadata": {},
   "outputs": [
    {
     "data": {
      "text/plain": [
       "'Churny'"
      ]
     },
     "execution_count": 55,
     "metadata": {},
     "output_type": "execute_result"
    }
   ],
   "source": [
    "generatePrediction(\"Tired of Verizon , I hate it . I am leaving it\",\"Verizon\")"
   ]
  },
  {
   "cell_type": "code",
   "execution_count": 50,
   "metadata": {},
   "outputs": [
    {
     "data": {
      "text/plain": [
       "array([0.43709043])"
      ]
     },
     "execution_count": 50,
     "metadata": {},
     "output_type": "execute_result"
    }
   ],
   "source": [
    "model.predict(x)"
   ]
  },
  {
   "cell_type": "code",
   "execution_count": null,
   "metadata": {},
   "outputs": [],
   "source": []
  }
 ],
 "metadata": {
  "kernelspec": {
   "display_name": "Python 3",
   "language": "python",
   "name": "python3"
  },
  "language_info": {
   "codemirror_mode": {
    "name": "ipython",
    "version": 3
   },
   "file_extension": ".py",
   "mimetype": "text/x-python",
   "name": "python",
   "nbconvert_exporter": "python",
   "pygments_lexer": "ipython3",
   "version": "3.6.5"
  }
 },
 "nbformat": 4,
 "nbformat_minor": 2
}
