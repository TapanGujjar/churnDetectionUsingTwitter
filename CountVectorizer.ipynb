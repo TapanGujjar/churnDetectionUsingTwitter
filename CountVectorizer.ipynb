{
 "cells": [
  {
   "cell_type": "code",
   "execution_count": 61,
   "metadata": {},
   "outputs": [],
   "source": [
    "import pandas as pd\n",
    "import numpy as np"
   ]
  },
  {
   "cell_type": "code",
   "execution_count": 62,
   "metadata": {},
   "outputs": [],
   "source": [
    "from wordcloud import WordCloud, STOPWORDS"
   ]
  },
  {
   "cell_type": "code",
   "execution_count": 63,
   "metadata": {},
   "outputs": [],
   "source": [
    "import lightgbm"
   ]
  },
  {
   "cell_type": "code",
   "execution_count": 64,
   "metadata": {},
   "outputs": [],
   "source": [
    "from sklearn.preprocessing import LabelEncoder"
   ]
  },
  {
   "cell_type": "code",
   "execution_count": 65,
   "metadata": {},
   "outputs": [],
   "source": [
    "from sklearn.model_selection import train_test_split\n",
    "from imblearn.over_sampling import SMOTE\n",
    "from sklearn.linear_model import LogisticRegression\n",
    "from sklearn.ensemble import RandomForestClassifier\n",
    "from sklearn.svm import SVC\n",
    "from sklearn.tree import DecisionTreeClassifier\n",
    "from sklearn.svm import LinearSVC\n",
    "from sklearn.metrics import classification_report\n",
    "from sklearn.metrics import confusion_matrix\n",
    "from sklearn.metrics import recall_score\n",
    "from sklearn.metrics import precision_score\n",
    "from sklearn.metrics import auc\n",
    "from sklearn.metrics import roc_auc_score\n",
    "from sklearn.metrics import f1_score"
   ]
  },
  {
   "cell_type": "code",
   "execution_count": 66,
   "metadata": {},
   "outputs": [],
   "source": [
    "from nltk.stem import PorterStemmer"
   ]
  },
  {
   "cell_type": "code",
   "execution_count": 67,
   "metadata": {},
   "outputs": [],
   "source": [
    "from sklearn.feature_extraction.text import TfidfVectorizer\n",
    "from sklearn.feature_extraction.text import CountVectorizer"
   ]
  },
  {
   "cell_type": "code",
   "execution_count": 68,
   "metadata": {},
   "outputs": [],
   "source": [
    "from nltk.corpus import stopwords\n",
    "stopwords=stopwords.words(\"english\")"
   ]
  },
  {
   "cell_type": "code",
   "execution_count": 69,
   "metadata": {},
   "outputs": [],
   "source": [
    "import re"
   ]
  },
  {
   "cell_type": "code",
   "execution_count": 70,
   "metadata": {},
   "outputs": [],
   "source": [
    "import matplotlib.pyplot as plt"
   ]
  },
  {
   "cell_type": "code",
   "execution_count": 71,
   "metadata": {},
   "outputs": [],
   "source": [
    "df=pd.read_json(\"crawler-tid/tweets_json\",lines=True)"
   ]
  },
  {
   "cell_type": "code",
   "execution_count": 72,
   "metadata": {
    "scrolled": true
   },
   "outputs": [],
   "source": [
    "df=df[['id','text']]"
   ]
  },
  {
   "cell_type": "code",
   "execution_count": 73,
   "metadata": {},
   "outputs": [
    {
     "data": {
      "text/plain": [
       "(3930, 2)"
      ]
     },
     "execution_count": 73,
     "metadata": {},
     "output_type": "execute_result"
    }
   ],
   "source": [
    "df.shape"
   ]
  },
  {
   "cell_type": "code",
   "execution_count": 74,
   "metadata": {},
   "outputs": [],
   "source": [
    "df_att=pd.read_csv(\"chdata/att\")\n",
    "df_verizon=pd.read_csv(\"chdata/verizon\")\n",
    "df_t=pd.read_csv(\"chdata/t-mobile\")"
   ]
  },
  {
   "cell_type": "code",
   "execution_count": 75,
   "metadata": {},
   "outputs": [],
   "source": [
    "df_label=pd.concat([df_att,df_verizon,df_t],axis=0)"
   ]
  },
  {
   "cell_type": "code",
   "execution_count": 76,
   "metadata": {},
   "outputs": [],
   "source": [
    "df_label=df_label[['brand','tid','choose_one','choose_one:confidence']]\n",
    "df_label.columns=['brand','id','choose_one',\"choose_one:confidence\"]"
   ]
  },
  {
   "cell_type": "code",
   "execution_count": 77,
   "metadata": {},
   "outputs": [],
   "source": [
    "mainDF=pd.merge(df,df_label,on=\"id\")"
   ]
  },
  {
   "cell_type": "code",
   "execution_count": 78,
   "metadata": {},
   "outputs": [],
   "source": [
    "mainDF=mainDF[['id','text','brand','choose_one']]"
   ]
  },
  {
   "cell_type": "code",
   "execution_count": 79,
   "metadata": {},
   "outputs": [
    {
     "data": {
      "text/plain": [
       "(827, 4)"
      ]
     },
     "execution_count": 79,
     "metadata": {},
     "output_type": "execute_result"
    }
   ],
   "source": [
    "mainDF[mainDF['choose_one']=='Churny'].shape"
   ]
  },
  {
   "cell_type": "code",
   "execution_count": 80,
   "metadata": {},
   "outputs": [
    {
     "data": {
      "text/plain": [
       "(3103, 4)"
      ]
     },
     "execution_count": 80,
     "metadata": {},
     "output_type": "execute_result"
    }
   ],
   "source": [
    "mainDF[mainDF['choose_one']=='Non-churny'].shape"
   ]
  },
  {
   "cell_type": "code",
   "execution_count": 81,
   "metadata": {},
   "outputs": [],
   "source": [
    "mainDF.to_csv(\"MergedDF.csv\",index=None)"
   ]
  },
  {
   "cell_type": "code",
   "execution_count": 82,
   "metadata": {},
   "outputs": [
    {
     "data": {
      "image/png": "[encoded data removed]",
      "text/plain": [
       "<Figure size 432x288 with 1 Axes>"
      ]
     },
     "metadata": {},
     "output_type": "display_data"
    }
   ],
   "source": [
    "plt.bar([0,1],[827,3103])\n",
    "plt.xticks([0,1],['Churny','Non-Churny'])\n",
    "plt.xlabel(\"Label\")\n",
    "plt.ylabel(\"Count\")\n",
    "plt.savefig(\"plots/dataDistribution.png\")\n",
    "plt.show()\n",
    "plt.close()"
   ]
  },
  {
   "cell_type": "code",
   "execution_count": 83,
   "metadata": {},
   "outputs": [
    {
     "data": {
      "image/png": "[encoded data removed]",
      "text/plain": [
       "<Figure size 432x288 with 1 Axes>"
      ]
     },
     "metadata": {},
     "output_type": "display_data"
    }
   ],
   "source": [
    "brands=np.unique(mainDF['brand'])\n",
    "brandInfo={}\n",
    "brandInfo['brand']=[]\n",
    "brandInfo['churnNum']=[]\n",
    "brandInfo['NonChurnNum']=[]\n",
    "for brand in brands:\n",
    "    brandInfo['brand'].append(brand)\n",
    "    brandInfo['churnNum'].append(mainDF[(mainDF['brand']==brand) & (mainDF['choose_one']==\"Churny\")].shape[0])\n",
    "    brandInfo['NonChurnNum'].append(mainDF[(mainDF['brand']==brand) & (mainDF['choose_one']==\"Non-churny\")].shape[0])\n",
    "x=pd.DataFrame(brandInfo)\n",
    "x=x.set_index(\"brand\")\n",
    "x.plot.bar(rot=0)\n",
    "plt.xlabel(\"Brands\")\n",
    "plt.ylabel(\"Count\")\n",
    "plt.savefig(\"plots/brandDistribution.png\")\n",
    "plt.show()\n",
    "plt.close()"
   ]
  },
  {
   "cell_type": "code",
   "execution_count": 84,
   "metadata": {},
   "outputs": [
    {
     "data": {
      "text/plain": [
       "id            0\n",
       "text          0\n",
       "brand         0\n",
       "choose_one    0\n",
       "dtype: int64"
      ]
     },
     "execution_count": 84,
     "metadata": {},
     "output_type": "execute_result"
    }
   ],
   "source": [
    "mainDF.isna().sum()"
   ]
  },
  {
   "cell_type": "code",
   "execution_count": 85,
   "metadata": {},
   "outputs": [
    {
     "data": {
      "text/plain": [
       "'@KushSectionOnly lmfaoooo no forreal i need him to unlock my 5 cause im leaving AT&amp;T'"
      ]
     },
     "execution_count": 85,
     "metadata": {},
     "output_type": "execute_result"
    }
   ],
   "source": [
    "mainDF[mainDF.choose_one=='Churny'].text.iloc()[500]"
   ]
  },
  {
   "cell_type": "code",
   "execution_count": 86,
   "metadata": {
    "scrolled": true
   },
   "outputs": [
    {
     "data": {
      "text/plain": [
       "'@KushSectionOnly lmfaoooo no forreal i need him to unlock my 5 cause im leaving AT&amp;T'"
      ]
     },
     "execution_count": 86,
     "metadata": {},
     "output_type": "execute_result"
    }
   ],
   "source": [
    "mainDF[mainDF.choose_one=='Churny'].text.iloc()[500]"
   ]
  },
  {
   "cell_type": "markdown",
   "metadata": {},
   "source": [
    "## Preprocessing"
   ]
  },
  {
   "cell_type": "code",
   "execution_count": 87,
   "metadata": {},
   "outputs": [
    {
     "name": "stdout",
     "output_type": "stream",
     "text": [
      "Done for i=0\n",
      "Done for i=500\n",
      "Done for i=1000\n",
      "Done for i=1500\n",
      "Done for i=2000\n",
      "Done for i=2500\n",
      "Done for i=3000\n",
      "Done for i=3500\n"
     ]
    }
   ],
   "source": [
    "replaceWord=\"<bb>\"\n",
    "brands={}\n",
    "brands['t-mobile']=['t-mobile','tmobile','tmobi']\n",
    "brands['verizon']=['verizon','veryzon']\n",
    "brands['at&t']=['att','at&t',]\n",
    "for i in range(len(mainDF)):\n",
    "    brand=mainDF.iloc()[i].brand\n",
    "    text=mainDF.iloc()[i].text\n",
    "    text=text.replace(\"&amp;\",\"&\")\n",
    "    text=text.replace(\"amp;\",'&')\n",
    "    for key,value in brands.items():\n",
    "        if(key==brand):\n",
    "            replaceWord=\" <bb> \"\n",
    "        else:\n",
    "            replaceWord=\" <aa> \"\n",
    "            \n",
    "        for name in value:\n",
    "            text=text.replace(name,replaceWord)\n",
    "    mainDF.iloc[i,mainDF.columns.get_loc('text')]=text\n",
    "    if(i%500==0):\n",
    "        print(\"Done for i=\"+str(i))\n"
   ]
  },
  {
   "cell_type": "code",
   "execution_count": 88,
   "metadata": {},
   "outputs": [
    {
     "data": {
      "text/plain": [
       "'I have 2 months to decide if i stay w/  <bb>  or switch to  <aa>  and also if i wanna get the iphone 5 or S III'"
      ]
     },
     "execution_count": 88,
     "metadata": {},
     "output_type": "execute_result"
    }
   ],
   "source": [
    "mainDF[mainDF.choose_one==\"Churny\"].iloc[600].text"
   ]
  },
  {
   "cell_type": "code",
   "execution_count": 89,
   "metadata": {},
   "outputs": [],
   "source": [
    "porter=PorterStemmer()\n",
    "def preprocessing(a_tweet):\n",
    "    cleanTweet=[]\n",
    "    a_tweet=a_tweet.replace(\"&amp;\",'&')\n",
    "    a_tweet=a_tweet.replace(\".\",\"\")\n",
    "    a_tweet=a_tweet.lower()\n",
    "    a_tweet=a_tweet.split(\" \")\n",
    "    for word in a_tweet:\n",
    "        word=word.strip()\n",
    "\n",
    "        valid=re.search(pattern=r\"[^A-Za-z-&<>]\",string=word)==None\n",
    "        if(word!=\"\" and valid==True and word not in stopwords):\n",
    "            word=porter.stem(word)\n",
    "            cleanTweet.append(word)\n",
    "    if(len(cleanTweet)==0):\n",
    "        return None\n",
    "    else:\n",
    "        return \" \".join(cleanTweet)\n",
    "    return \" \".join(cleanTweet)"
   ]
  },
  {
   "cell_type": "code",
   "execution_count": 90,
   "metadata": {},
   "outputs": [],
   "source": [
    "mainDF['text']=mainDF['text'].apply(preprocessing)"
   ]
  },
  {
   "cell_type": "code",
   "execution_count": 91,
   "metadata": {},
   "outputs": [
    {
     "data": {
      "text/plain": [
       "'month decid stay <bb> switch <aa> also wanna get iphon iii'"
      ]
     },
     "execution_count": 91,
     "metadata": {},
     "output_type": "execute_result"
    }
   ],
   "source": [
    "mainDF[mainDF.choose_one=='Churny'].text.iloc()[600]"
   ]
  },
  {
   "cell_type": "code",
   "execution_count": 92,
   "metadata": {},
   "outputs": [],
   "source": [
    "mainDF=mainDF.dropna()"
   ]
  },
  {
   "cell_type": "code",
   "execution_count": 93,
   "metadata": {},
   "outputs": [
    {
     "data": {
      "text/plain": [
       "array(['verizon', 'at&t', 't-mobile'], dtype=object)"
      ]
     },
     "execution_count": 93,
     "metadata": {},
     "output_type": "execute_result"
    }
   ],
   "source": [
    "mainDF['brand'].unique()"
   ]
  },
  {
   "cell_type": "code",
   "execution_count": null,
   "metadata": {
    "scrolled": true
   },
   "outputs": [],
   "source": [
    "wordcloud=WordCloud(height=800,width=1000,stopwords=STOPWORDS).generate(\" \".join(df['text']))\n",
    "plt.imshow(wordcloud)\n",
    "plt.savefig(\"plots/BeforeGeneralWordCloud.png\")\n",
    "plt.show()"
   ]
  },
  {
   "cell_type": "code",
   "execution_count": null,
   "metadata": {},
   "outputs": [],
   "source": [
    "wordcloud=WordCloud(height=800,width=1000,stopwords=STOPWORDS).generate(\" \".join(mainDF[mainDF.choose_one==\"Churny\"].text.values))\n",
    "plt.imshow(wordcloud)\n",
    "plt.savefig(\"plots/BeforeChurnWordCloud.png\")\n",
    "plt.show()"
   ]
  },
  {
   "cell_type": "code",
   "execution_count": null,
   "metadata": {},
   "outputs": [],
   "source": [
    "wordcloud=WordCloud(height=600,width=800,stopwords=STOPWORDS).generate(\" \".join(mainDF[mainDF.choose_one==\"Non-churny\"].text.values))\n",
    "plt.imshow(wordcloud)\n",
    "plt.savefig(\"NonChurnWordCloud.png\")\n",
    "plt.show()"
   ]
  },
  {
   "cell_type": "code",
   "execution_count": null,
   "metadata": {},
   "outputs": [],
   "source": [
    "mainDF.columns"
   ]
  },
  {
   "cell_type": "code",
   "execution_count": null,
   "metadata": {},
   "outputs": [],
   "source": []
  },
  {
   "cell_type": "code",
   "execution_count": null,
   "metadata": {},
   "outputs": [],
   "source": [
    "testDF=mainDF.copy()"
   ]
  },
  {
   "cell_type": "code",
   "execution_count": null,
   "metadata": {},
   "outputs": [],
   "source": [
    "mainDF[mainDF.choose_one==\"Churny\"].iloc[600].text"
   ]
  },
  {
   "cell_type": "code",
   "execution_count": null,
   "metadata": {},
   "outputs": [],
   "source": [
    "testDF[testDF.choose_one==\"Churny\"].iloc[600].text"
   ]
  },
  {
   "cell_type": "code",
   "execution_count": null,
   "metadata": {
    "scrolled": true
   },
   "outputs": [],
   "source": [
    "wordcloud=WordCloud(height=600,width=800,stopwords=['<aa>,<bb>','aa','bb']).generate(\" \".join(mainDF['text']))\n",
    "plt.imshow(wordcloud)\n",
    "plt.savefig(\"GeneralWordCloud.png\")\n",
    "plt.show()"
   ]
  },
  {
   "cell_type": "code",
   "execution_count": null,
   "metadata": {
    "scrolled": true
   },
   "outputs": [],
   "source": [
    "wordcloud=WordCloud(height=600,width=800,stopwords=['<aa>,<bb>','aa','bb']).generate(\" \".join(mainDF[mainDF.choose_one==\"Churny\"].text.values))\n",
    "plt.imshow(wordcloud)\n",
    "plt.savefig(\"ChurnWordCloud.png\")\n",
    "plt.show()"
   ]
  },
  {
   "cell_type": "code",
   "execution_count": null,
   "metadata": {},
   "outputs": [],
   "source": [
    "wordcloud=WordCloud(height=600,width=800,stopwords=['<aa>,<bb>','aa','bb']).generate(\" \".join(mainDF[mainDF.choose_one==\"Non-churny\"].text.values))\n",
    "plt.imshow(wordcloud)\n",
    "plt.savefig(\"NonChurnWordCloud.png\")\n",
    "plt.show()"
   ]
  },
  {
   "cell_type": "markdown",
   "metadata": {},
   "source": [
    "# Feature Selection"
   ]
  },
  {
   "cell_type": "code",
   "execution_count": 99,
   "metadata": {},
   "outputs": [],
   "source": [
    "vocabLen=[]"
   ]
  },
  {
   "cell_type": "code",
   "execution_count": 103,
   "metadata": {},
   "outputs": [],
   "source": [
    "countVect=CountVectorizer(ngram_range=(1,3))\n",
    "X=countVect.fit_transform(mainDF['text'])"
   ]
  },
  {
   "cell_type": "code",
   "execution_count": 104,
   "metadata": {},
   "outputs": [],
   "source": [
    "vocabLen.append(len(countVect.vocabulary_))"
   ]
  },
  {
   "cell_type": "code",
   "execution_count": 107,
   "metadata": {},
   "outputs": [
    {
     "data": {
      "image/png": "[encoded data removed]",
      "text/plain": [
       "<Figure size 432x288 with 1 Axes>"
      ]
     },
     "metadata": {},
     "output_type": "display_data"
    }
   ],
   "source": [
    "plt.bar([1,2,3],vocabLen)\n",
    "plt.xticks([1,2,3],[1,2,3])\n",
    "plt.xlabel(\"NGrams Count\")\n",
    "plt.ylabel(\"Count\")\n",
    "plt.savefig(\"plots/countVecVocCount.png\")\n",
    "plt.show()"
   ]
  },
  {
   "cell_type": "code",
   "execution_count": null,
   "metadata": {},
   "outputs": [],
   "source": [
    "y=LabelEncoder().fit_transform(mainDF.choose_one)"
   ]
  },
  {
   "cell_type": "code",
   "execution_count": null,
   "metadata": {},
   "outputs": [],
   "source": [
    "X_train,X_test,y_train,y_test=train_test_split(X,y,stratify=y.ravel(),shuffle=True)"
   ]
  },
  {
   "cell_type": "markdown",
   "metadata": {},
   "source": [
    "# Creating Classification"
   ]
  },
  {
   "cell_type": "code",
   "execution_count": null,
   "metadata": {},
   "outputs": [],
   "source": [
    "def createSummary(y_test,y_pred):\n",
    "    class0List=np.where(y_test==0)\n",
    "    class1List=np.where(y_test==1)\n",
    "    sumDict={}\n",
    "    sumDict['accuracy']=np.mean(y_test==y_pred)\n",
    "    sumDict['class0Accuracy']=np.mean(y_test[class0List]==y_pred[class0List])\n",
    "    sumDict['class1Accuracy']=np.mean(y_test[class1List]==y_pred[class1List])\n",
    "    sumDict['precision']=precision_score(y_test,y_pred)\n",
    "    sumDict['recall']=recall_score(y_test,y_pred)\n",
    "    sumDict['f1-score']=f1_score(y_test,y_pred)\n",
    "    sumDict['auc']=roc_auc_score(y_test,y_pred)\n",
    "    sumDict['confuseMatrix']=confusion_matrix(y_test,y_pred)\n",
    "    print(classification_report(y_test,y_pred,target_names=['class 0','class 1']))\n",
    "#     print(sumDict)\n",
    "    return sumDict"
   ]
  },
  {
   "cell_type": "code",
   "execution_count": null,
   "metadata": {},
   "outputs": [],
   "source": [
    "decTree=DecisionTreeClassifier()\n",
    "decTree.fit(X_train,y_train)\n",
    "y_pred=decTree.predict(X_test)\n",
    "createSummary(y_test,y_pred)"
   ]
  },
  {
   "cell_type": "code",
   "execution_count": null,
   "metadata": {},
   "outputs": [],
   "source": [
    "svcModel=SVC()\n",
    "svcModel.fit(X_train,y_train)\n",
    "y_pred=svcModel.predict(X_test)\n",
    "createSummary(y_test,y_pred)"
   ]
  },
  {
   "cell_type": "code",
   "execution_count": null,
   "metadata": {
    "scrolled": true
   },
   "outputs": [],
   "source": [
    "LogReg=LogisticRegression()\n",
    "LogReg.fit(X_train,y_train)\n",
    "y_pred=LogReg.predict(X_test)\n",
    "createSummary(y_test,y_pred)"
   ]
  },
  {
   "cell_type": "code",
   "execution_count": null,
   "metadata": {},
   "outputs": [],
   "source": [
    "ranFor=RandomForestClassifier(class_weight={0:5,1:1})\n",
    "ranFor.fit(X_train,y_train)\n",
    "y_pred=ranFor.predict(X_test)\n",
    "createSummary(y_pred,y_test)"
   ]
  },
  {
   "cell_type": "code",
   "execution_count": null,
   "metadata": {
    "scrolled": true
   },
   "outputs": [],
   "source": [
    "linSvc=LinearSVC()\n",
    "linSvc.fit(X_train,y_train)\n",
    "y_pred=linSvc.predict(X_test)\n",
    "createSummary(y_test,y_pred)"
   ]
  },
  {
   "cell_type": "code",
   "execution_count": null,
   "metadata": {},
   "outputs": [],
   "source": [
    "parameters = {\n",
    "    'application': 'binary',\n",
    "    'objective': 'binary',\n",
    "    'metric': 'auc',\n",
    "    'is_unbalance': 'true',\n",
    "    'boosting': 'gbdt',\n",
    "    'num_leaves': 31,\n",
    "    'feature_fraction': 0.5,\n",
    "    'bagging_fraction': 0.5,\n",
    "    'bagging_freq': 20,\n",
    "    'learning_rate': 0.05,\n",
    "    'verbose': 0\n",
    "}\n",
    "X_test=X_test.astype(\"float\")\n",
    "X_train=X_train.astype(\"float\")\n",
    "\n",
    "train_data = lightgbm.Dataset(X_train, label=y_train)\n",
    "test_data = lightgbm.Dataset(X_test, label=y_test)\n",
    "model = lightgbm.train(parameters,\n",
    "                       train_data,\n",
    "                       valid_sets=test_data,\n",
    "                       num_boost_round=5000,\n",
    "                       early_stopping_rounds=10)\n",
    "#"
   ]
  },
  {
   "cell_type": "code",
   "execution_count": null,
   "metadata": {},
   "outputs": [],
   "source": [
    "y_pred=model.predict(X_test)"
   ]
  },
  {
   "cell_type": "code",
   "execution_count": null,
   "metadata": {
    "scrolled": true
   },
   "outputs": [],
   "source": [
    "accList=[]\n",
    "class0List=[]\n",
    "class1List=[]\n",
    "for i in np.arange(0.05,0.95,0.05):\n",
    "    y_pred_1=np.where(y_pred>i,1,0)\n",
    "    sumDict=createSummary(y_test,y_pred_1)\n",
    "    accList.append(sumDict['accuracy']*100)\n",
    "    class0List.append(sumDict['class0Accuracy']*100)\n",
    "    print(\"SADSD=\"+str(i))\n",
    "    print(\"ACcuracy=\",sumDict['class0Accuracy'])\n",
    "    class1List.append(sumDict['class1Accuracy']*100)"
   ]
  },
  {
   "cell_type": "code",
   "execution_count": null,
   "metadata": {},
   "outputs": [],
   "source": [
    "np.arange(0,0.95,0.05)"
   ]
  },
  {
   "cell_type": "code",
   "execution_count": null,
   "metadata": {
    "scrolled": true
   },
   "outputs": [],
   "source": [
    "plt.plot(accList)\n",
    "plt.plot(class0List)\n",
    "plt.plot(class1List)\n",
    "plt.xlabel(\"CutOff\")\n",
    "plt.ylabel(\"Accuracy\")\n",
    "plt.legend([\"Accuracy\",\"Churn Accuracy\",\"Non Churn Accuracy\"])\n",
    "plt.xticks(np.arange(0,19,1),np.arange(0.05,0.95,0.05),rotation=\"vertical\")\n",
    "plt.savefig(\"plots/LightGBMCutoff_ngrams1.png\")"
   ]
  },
  {
   "cell_type": "code",
   "execution_count": null,
   "metadata": {},
   "outputs": [],
   "source": [
    "y_pred_1=np.where(y_pred>0.60,1,0)\n",
    "createSummary(y_test,y_pred_1)"
   ]
  },
  {
   "cell_type": "code",
   "execution_count": null,
   "metadata": {},
   "outputs": [],
   "source": [
    "mainDF.to_csv(\"dataV2.csv\",index=None)"
   ]
  },
  {
   "cell_type": "code",
   "execution_count": null,
   "metadata": {},
   "outputs": [],
   "source": []
  }
 ],
 "metadata": {
  "kernelspec": {
   "display_name": "Python 3",
   "language": "python",
   "name": "python3"
  },
  "language_info": {
   "codemirror_mode": {
    "name": "ipython",
    "version": 3
   },
   "file_extension": ".py",
   "mimetype": "text/x-python",
   "name": "python",
   "nbconvert_exporter": "python",
   "pygments_lexer": "ipython3",
   "version": "3.6.5"
  }
 },
 "nbformat": 4,
 "nbformat_minor": 2
}
